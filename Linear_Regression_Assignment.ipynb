{
 "cells": [
  {
   "cell_type": "markdown",
   "metadata": {},
   "source": [
    "# Bike Sharing Assignment\n",
    "We have a dataset with information related to bike sharing rental service. Our aim is to identify which variables are significant in the prediction of demand. Also, we want to identify how well each variable predicts the demand."
   ]
  },
  {
   "cell_type": "markdown",
   "metadata": {},
   "source": [
    "### -------------------------------------------------------Data Cleaning---------------------------------------------------------\n",
    "First, we will perform some checks to see if data is clean. Else we will clean it.\n",
    "We clean this data in following order.<br>\n",
    "1) Dropping/imputing rows.<br>\n",
    "\n",
    "2) Dropping columns.<br>\n",
    "\n",
    "3) Cleaning values: For example, data type conversion, creating dummy variables.<br>\n",
    "\n",
    " <br>\n",
    " <br>\n",
    " Note: We may still drop/ignore certain columns during analysis if they are not found to be useful"
   ]
  },
  {
   "cell_type": "code",
   "execution_count": 1,
   "metadata": {},
   "outputs": [],
   "source": [
    "#importing packages\n",
    "import pandas as pd\n",
    "pd.options.mode.chained_assignment = None  # to ignore SettingWithCopyWarning\n",
    "import matplotlib.pyplot as plt\n",
    "import seaborn as sns"
   ]
  },
  {
   "cell_type": "code",
   "execution_count": 2,
   "metadata": {},
   "outputs": [
    {
     "data": {
      "text/html": [
       "<div>\n",
       "<style scoped>\n",
       "    .dataframe tbody tr th:only-of-type {\n",
       "        vertical-align: middle;\n",
       "    }\n",
       "\n",
       "    .dataframe tbody tr th {\n",
       "        vertical-align: top;\n",
       "    }\n",
       "\n",
       "    .dataframe thead th {\n",
       "        text-align: right;\n",
       "    }\n",
       "</style>\n",
       "<table border=\"1\" class=\"dataframe\">\n",
       "  <thead>\n",
       "    <tr style=\"text-align: right;\">\n",
       "      <th></th>\n",
       "      <th>instant</th>\n",
       "      <th>dteday</th>\n",
       "      <th>season</th>\n",
       "      <th>yr</th>\n",
       "      <th>mnth</th>\n",
       "      <th>holiday</th>\n",
       "      <th>weekday</th>\n",
       "      <th>workingday</th>\n",
       "      <th>weathersit</th>\n",
       "      <th>temp</th>\n",
       "      <th>atemp</th>\n",
       "      <th>hum</th>\n",
       "      <th>windspeed</th>\n",
       "      <th>casual</th>\n",
       "      <th>registered</th>\n",
       "      <th>cnt</th>\n",
       "    </tr>\n",
       "  </thead>\n",
       "  <tbody>\n",
       "    <tr>\n",
       "      <th>0</th>\n",
       "      <td>1</td>\n",
       "      <td>01-01-2018</td>\n",
       "      <td>1</td>\n",
       "      <td>0</td>\n",
       "      <td>1</td>\n",
       "      <td>0</td>\n",
       "      <td>6</td>\n",
       "      <td>0</td>\n",
       "      <td>2</td>\n",
       "      <td>14.110847</td>\n",
       "      <td>18.18125</td>\n",
       "      <td>80.5833</td>\n",
       "      <td>10.749882</td>\n",
       "      <td>331</td>\n",
       "      <td>654</td>\n",
       "      <td>985</td>\n",
       "    </tr>\n",
       "    <tr>\n",
       "      <th>1</th>\n",
       "      <td>2</td>\n",
       "      <td>02-01-2018</td>\n",
       "      <td>1</td>\n",
       "      <td>0</td>\n",
       "      <td>1</td>\n",
       "      <td>0</td>\n",
       "      <td>0</td>\n",
       "      <td>0</td>\n",
       "      <td>2</td>\n",
       "      <td>14.902598</td>\n",
       "      <td>17.68695</td>\n",
       "      <td>69.6087</td>\n",
       "      <td>16.652113</td>\n",
       "      <td>131</td>\n",
       "      <td>670</td>\n",
       "      <td>801</td>\n",
       "    </tr>\n",
       "    <tr>\n",
       "      <th>2</th>\n",
       "      <td>3</td>\n",
       "      <td>03-01-2018</td>\n",
       "      <td>1</td>\n",
       "      <td>0</td>\n",
       "      <td>1</td>\n",
       "      <td>0</td>\n",
       "      <td>1</td>\n",
       "      <td>1</td>\n",
       "      <td>1</td>\n",
       "      <td>8.050924</td>\n",
       "      <td>9.47025</td>\n",
       "      <td>43.7273</td>\n",
       "      <td>16.636703</td>\n",
       "      <td>120</td>\n",
       "      <td>1229</td>\n",
       "      <td>1349</td>\n",
       "    </tr>\n",
       "    <tr>\n",
       "      <th>3</th>\n",
       "      <td>4</td>\n",
       "      <td>04-01-2018</td>\n",
       "      <td>1</td>\n",
       "      <td>0</td>\n",
       "      <td>1</td>\n",
       "      <td>0</td>\n",
       "      <td>2</td>\n",
       "      <td>1</td>\n",
       "      <td>1</td>\n",
       "      <td>8.200000</td>\n",
       "      <td>10.60610</td>\n",
       "      <td>59.0435</td>\n",
       "      <td>10.739832</td>\n",
       "      <td>108</td>\n",
       "      <td>1454</td>\n",
       "      <td>1562</td>\n",
       "    </tr>\n",
       "    <tr>\n",
       "      <th>4</th>\n",
       "      <td>5</td>\n",
       "      <td>05-01-2018</td>\n",
       "      <td>1</td>\n",
       "      <td>0</td>\n",
       "      <td>1</td>\n",
       "      <td>0</td>\n",
       "      <td>3</td>\n",
       "      <td>1</td>\n",
       "      <td>1</td>\n",
       "      <td>9.305237</td>\n",
       "      <td>11.46350</td>\n",
       "      <td>43.6957</td>\n",
       "      <td>12.522300</td>\n",
       "      <td>82</td>\n",
       "      <td>1518</td>\n",
       "      <td>1600</td>\n",
       "    </tr>\n",
       "  </tbody>\n",
       "</table>\n",
       "</div>"
      ],
      "text/plain": [
       "   instant      dteday  season  yr  mnth  holiday  weekday  workingday  \\\n",
       "0        1  01-01-2018       1   0     1        0        6           0   \n",
       "1        2  02-01-2018       1   0     1        0        0           0   \n",
       "2        3  03-01-2018       1   0     1        0        1           1   \n",
       "3        4  04-01-2018       1   0     1        0        2           1   \n",
       "4        5  05-01-2018       1   0     1        0        3           1   \n",
       "\n",
       "   weathersit       temp     atemp      hum  windspeed  casual  registered  \\\n",
       "0           2  14.110847  18.18125  80.5833  10.749882     331         654   \n",
       "1           2  14.902598  17.68695  69.6087  16.652113     131         670   \n",
       "2           1   8.050924   9.47025  43.7273  16.636703     120        1229   \n",
       "3           1   8.200000  10.60610  59.0435  10.739832     108        1454   \n",
       "4           1   9.305237  11.46350  43.6957  12.522300      82        1518   \n",
       "\n",
       "    cnt  \n",
       "0   985  \n",
       "1   801  \n",
       "2  1349  \n",
       "3  1562  \n",
       "4  1600  "
      ]
     },
     "execution_count": 2,
     "metadata": {},
     "output_type": "execute_result"
    }
   ],
   "source": [
    "#loading data in to variable named 'df'\n",
    "df=pd.read_csv('day.csv')\n",
    "df.head()"
   ]
  },
  {
   "cell_type": "code",
   "execution_count": 3,
   "metadata": {},
   "outputs": [
    {
     "data": {
      "text/plain": [
       "(730, 16)"
      ]
     },
     "execution_count": 3,
     "metadata": {},
     "output_type": "execute_result"
    }
   ],
   "source": [
    "#we see 730 rows and 16 columns initially\n",
    "df.shape"
   ]
  },
  {
   "cell_type": "code",
   "execution_count": 4,
   "metadata": {},
   "outputs": [
    {
     "data": {
      "text/plain": [
       "instant       0.0\n",
       "dteday        0.0\n",
       "season        0.0\n",
       "yr            0.0\n",
       "mnth          0.0\n",
       "holiday       0.0\n",
       "weekday       0.0\n",
       "workingday    0.0\n",
       "weathersit    0.0\n",
       "temp          0.0\n",
       "atemp         0.0\n",
       "hum           0.0\n",
       "windspeed     0.0\n",
       "casual        0.0\n",
       "registered    0.0\n",
       "cnt           0.0\n",
       "dtype: float64"
      ]
     },
     "execution_count": 4,
     "metadata": {},
     "output_type": "execute_result"
    }
   ],
   "source": [
    "#checking what percentage of each column is null\n",
    "null_percentage=df.isnull().sum() * 100 / df.shape[0]\n",
    "null_percentage  #there are not any null values in any of the columns"
   ]
  },
  {
   "cell_type": "markdown",
   "metadata": {},
   "source": [
    "Row cleaning: Since there are no null values in the input dataset, we dont need to drop or impute any rows based on that. Next, we will check if there are any rows that indicate totals, subtotals, headers, footers, page numbers, column numbers, blank rows, page numbers"
   ]
  },
  {
   "cell_type": "code",
   "execution_count": 5,
   "metadata": {},
   "outputs": [
    {
     "data": {
      "text/plain": [
       "730"
      ]
     },
     "execution_count": 5,
     "metadata": {},
     "output_type": "execute_result"
    }
   ],
   "source": [
    "#df.describe()\n",
    "len(df.dteday.unique())#all rows have date as unique and non-null, this means there are not any rows like totals/subtotals that sneaked in\n",
    "#there is no need to drop any rows"
   ]
  },
  {
   "cell_type": "code",
   "execution_count": 6,
   "metadata": {},
   "outputs": [
    {
     "data": {
      "text/plain": [
       "instant         int64\n",
       "dteday         object\n",
       "season          int64\n",
       "yr              int64\n",
       "mnth            int64\n",
       "holiday         int64\n",
       "weekday         int64\n",
       "workingday      int64\n",
       "weathersit      int64\n",
       "temp          float64\n",
       "atemp         float64\n",
       "hum           float64\n",
       "windspeed     float64\n",
       "casual          int64\n",
       "registered      int64\n",
       "cnt             int64\n",
       "dtype: object"
      ]
     },
     "execution_count": 6,
     "metadata": {},
     "output_type": "execute_result"
    }
   ],
   "source": [
    "df.dtypes # there is only one object field dteday"
   ]
  },
  {
   "cell_type": "markdown",
   "metadata": {},
   "source": [
    "Column cleaning: Since there are no null values in the input dataset, we directly jump to other column validations."
   ]
  },
  {
   "cell_type": "code",
   "execution_count": 7,
   "metadata": {},
   "outputs": [
    {
     "data": {
      "text/plain": [
       "[]"
      ]
     },
     "execution_count": 7,
     "metadata": {},
     "output_type": "execute_result"
    }
   ],
   "source": [
    "#checking if any columns has just one value throughout\n",
    "mono_list=(df.nunique().sort_values()).loc[df.nunique().sort_values()==1].index.tolist()\n",
    "mono_list#there is not any column where all rows have same value, nothing to drop there"
   ]
  },
  {
   "cell_type": "code",
   "execution_count": 8,
   "metadata": {},
   "outputs": [
    {
     "data": {
      "text/plain": [
       "['instant', 'dteday']"
      ]
     },
     "execution_count": 8,
     "metadata": {},
     "output_type": "execute_result"
    }
   ],
   "source": [
    "#finding the columns that have all values as unique\n",
    "diverse_list=(df.nunique().sort_values()).loc[df.nunique().sort_values()==len(df)].index.tolist()\n",
    "diverse_list#we got instant and dteday where all row values unique\n",
    "#'instant' is a serial number that we actually dont need for model building, we will ignore it when slicing\n",
    "#'dteday' is a date field, not a category field. For now we will keep this field."
   ]
  },
  {
   "cell_type": "markdown",
   "metadata": {},
   "source": [
    "Column analysis: Since we have only 13 columns, we will analyse them individually and make any needed changes like type conversion"
   ]
  },
  {
   "cell_type": "code",
   "execution_count": 9,
   "metadata": {},
   "outputs": [
    {
     "data": {
      "text/plain": [
       "Index(['instant', 'dteday', 'season', 'yr', 'mnth', 'holiday', 'weekday',\n",
       "       'workingday', 'weathersit', 'temp', 'atemp', 'hum', 'windspeed',\n",
       "       'casual', 'registered', 'cnt'],\n",
       "      dtype='object')"
      ]
     },
     "execution_count": 9,
     "metadata": {},
     "output_type": "execute_result"
    }
   ],
   "source": [
    "df.columns#list of columns to analyse"
   ]
  },
  {
   "cell_type": "code",
   "execution_count": 10,
   "metadata": {},
   "outputs": [],
   "source": [
    "#Analysing 'instant'\n",
    "#As per data dictionary, it's just a index field. We will ignore it when slicing"
   ]
  },
  {
   "cell_type": "code",
   "execution_count": 11,
   "metadata": {},
   "outputs": [],
   "source": [
    "#Analysing 'dteday'\n",
    "df.dteday.dtype#this is O type\n",
    "#let's change it into datetime format. We can ignore this field later if its values are already included in other variables\n",
    "df.dteday=pd.to_datetime(df.dteday, format='%d-%m-%Y')"
   ]
  },
  {
   "cell_type": "code",
   "execution_count": 12,
   "metadata": {},
   "outputs": [],
   "source": [
    "#Analysing 'season'\n",
    "df.season.dtype#this is a integer field, but as per the data dictionary, this is just unordered categorical data\n",
    "#lets change seasons from numbers to names. This will be helpful when you convert them to dummy variables\n",
    "df.season=df.season.map({1:'spring', 2:'summer', 3:'fall', 4:'winter'})#dtype also got converted from int to object"
   ]
  },
  {
   "cell_type": "code",
   "execution_count": 13,
   "metadata": {},
   "outputs": [
    {
     "data": {
      "text/plain": [
       "dtype('int64')"
      ]
     },
     "execution_count": 13,
     "metadata": {},
     "output_type": "execute_result"
    }
   ],
   "source": [
    "#Analysing 'yr'\n",
    "df.yr.dtype#this integer with only 0 and 1, which is just fine\n",
    "#year 0 is for 2018 and 1 is for 2019 so we will have an idea of how dependent variable increases with increase in 1 unit of year"
   ]
  },
  {
   "cell_type": "code",
   "execution_count": 14,
   "metadata": {},
   "outputs": [],
   "source": [
    "#Analysing 'mnth'\n",
    "df.mnth.dtype#this is a integer field, but as per the data dictionary, this is just unordered categorical data\n",
    "#lets change months from numbers to names. This will be helpful when you convert them to dummy variables\n",
    "df.mnth=df.mnth.map({1:'Jan', 2:'Feb', 3:'Mar', 4:'Apr', 5: 'May', 6: 'Jun',\n",
    "                    7:'Jul', 8:'Aug', 9:'Sep', 10:'Oct', 11:'Nov', 12: 'Dec'})#dtype also got converted from int to object"
   ]
  },
  {
   "cell_type": "code",
   "execution_count": 15,
   "metadata": {},
   "outputs": [
    {
     "data": {
      "text/plain": [
       "dtype('int64')"
      ]
     },
     "execution_count": 15,
     "metadata": {},
     "output_type": "execute_result"
    }
   ],
   "source": [
    "#Analysing 'holiday'\n",
    "df.holiday.dtype#this integer with only 0 and 1, which is just fine"
   ]
  },
  {
   "cell_type": "code",
   "execution_count": 16,
   "metadata": {},
   "outputs": [],
   "source": [
    "#Analysing 'weekday'\n",
    "df.weekday.dtype#this is a integer field, but as per the data dictionary, this is just categorical data, one number represents one day\n",
    "#lets change weekdays from numbers to names. This will be helpful when you convert them to dummy variables\n",
    "df.weekday=df.weekday.map({0:'Tue',1:'Wed', 2:'Thu', 3:'Fri', 4:'Sat', 5: 'Sun', 6: 'Mon'})#dtype also got converted from int to object"
   ]
  },
  {
   "cell_type": "code",
   "execution_count": 17,
   "metadata": {},
   "outputs": [
    {
     "data": {
      "text/plain": [
       "dtype('int64')"
      ]
     },
     "execution_count": 17,
     "metadata": {},
     "output_type": "execute_result"
    }
   ],
   "source": [
    "#Analysing 'workingday'\n",
    "df.workingday.dtype#this integer with only 0 and 1, which is just fine\n",
    "#we will check if we can drop this column later because working day is all days except mondays and tuesdays and holidays"
   ]
  },
  {
   "cell_type": "code",
   "execution_count": 18,
   "metadata": {},
   "outputs": [],
   "source": [
    "#Analysing 'weathersit'\n",
    "df.weathersit.value_counts()#there is not even a single instance of heavy rain/snow, we have to build model with available diversity\n",
    "df.weathersit.dtype#this is a integer field, but as per the data dictionary, this is just unordered categorical data, one number represents one day\n",
    "#lets change weather situation from numbers to names. This will be helpful when you convert them to dummy variables\n",
    "df.weathersit=df.weathersit.map({1:'Clear_Sky', 2:'Misty', 3:'Light_Snow/Rain', 4:'Heavy_Snow/Rain'})#dtype also got converted from int to object"
   ]
  },
  {
   "cell_type": "code",
   "execution_count": 19,
   "metadata": {},
   "outputs": [
    {
     "data": {
      "image/png": "[encoded data removed]",
      "text/plain": [
       "<Figure size 432x288 with 1 Axes>"
      ]
     },
     "metadata": {},
     "output_type": "display_data"
    }
   ],
   "source": [
    "#Analysing temp and atemp\n",
    "df[['temp','atemp']].plot.box()\n",
    "plt.show()\n",
    "#the difference between temp and atemp is that temp is actual temperature and atemp is what it feels like\n",
    "#for now, we will keep both of them but may use only atemp in model building\n",
    "\n",
    "#but before that, we have to convert degrees celcius to have only one value after decimal point\n",
    "df.temp=round(df.temp,1)\n",
    "df.atemp=round(df.atemp,1)"
   ]
  },
  {
   "cell_type": "code",
   "execution_count": 20,
   "metadata": {},
   "outputs": [],
   "source": [
    "#Analysing hum\n",
    "df.hum.dtype#this is a float datatype which is acceptable\n",
    "#let's convert humidity to have only two values after decimal point as it has significant range\n",
    "df.hum=round(df.hum,2)"
   ]
  },
  {
   "cell_type": "code",
   "execution_count": 21,
   "metadata": {},
   "outputs": [],
   "source": [
    "#Analysing windspeed\n",
    "df.windspeed.dtype#this is a float datatype which is acceptable\n",
    "#let's convert windspeed to have only two values after decimal point as it has significant range\n",
    "df.windspeed=round(df.windspeed,2)"
   ]
  },
  {
   "cell_type": "code",
   "execution_count": 22,
   "metadata": {},
   "outputs": [
    {
     "data": {
      "text/plain": [
       "730"
      ]
     },
     "execution_count": 22,
     "metadata": {},
     "output_type": "execute_result"
    }
   ],
   "source": [
    "#Analysing casual, registered and cnt\n",
    "#count is a sum of casual and registered users\n",
    "#we will check if this is true throughout\n",
    "df.loc[df.casual+df.registered==df.cnt].cnt.count()#the sum is equal to count for all rows\n",
    "#we can drop casual and registered columns as the client is concerned in overall count rather than number of registered and causal users.\n",
    "#keeping these fields only causes more redundancy in model because count=registered+casual"
   ]
  },
  {
   "cell_type": "code",
   "execution_count": 23,
   "metadata": {},
   "outputs": [
    {
     "data": {
      "text/html": [
       "<div>\n",
       "<style scoped>\n",
       "    .dataframe tbody tr th:only-of-type {\n",
       "        vertical-align: middle;\n",
       "    }\n",
       "\n",
       "    .dataframe tbody tr th {\n",
       "        vertical-align: top;\n",
       "    }\n",
       "\n",
       "    .dataframe thead th {\n",
       "        text-align: right;\n",
       "    }\n",
       "</style>\n",
       "<table border=\"1\" class=\"dataframe\">\n",
       "  <thead>\n",
       "    <tr style=\"text-align: right;\">\n",
       "      <th></th>\n",
       "      <th>instant</th>\n",
       "      <th>dteday</th>\n",
       "      <th>season</th>\n",
       "      <th>yr</th>\n",
       "      <th>mnth</th>\n",
       "      <th>holiday</th>\n",
       "      <th>weekday</th>\n",
       "      <th>workingday</th>\n",
       "      <th>weathersit</th>\n",
       "      <th>temp</th>\n",
       "      <th>atemp</th>\n",
       "      <th>hum</th>\n",
       "      <th>windspeed</th>\n",
       "      <th>casual</th>\n",
       "      <th>registered</th>\n",
       "      <th>cnt</th>\n",
       "    </tr>\n",
       "  </thead>\n",
       "  <tbody>\n",
       "    <tr>\n",
       "      <th>0</th>\n",
       "      <td>1</td>\n",
       "      <td>2018-01-01</td>\n",
       "      <td>spring</td>\n",
       "      <td>0</td>\n",
       "      <td>Jan</td>\n",
       "      <td>0</td>\n",
       "      <td>Mon</td>\n",
       "      <td>0</td>\n",
       "      <td>Misty</td>\n",
       "      <td>14.1</td>\n",
       "      <td>18.2</td>\n",
       "      <td>80.58</td>\n",
       "      <td>10.75</td>\n",
       "      <td>331</td>\n",
       "      <td>654</td>\n",
       "      <td>985</td>\n",
       "    </tr>\n",
       "    <tr>\n",
       "      <th>1</th>\n",
       "      <td>2</td>\n",
       "      <td>2018-01-02</td>\n",
       "      <td>spring</td>\n",
       "      <td>0</td>\n",
       "      <td>Jan</td>\n",
       "      <td>0</td>\n",
       "      <td>Tue</td>\n",
       "      <td>0</td>\n",
       "      <td>Misty</td>\n",
       "      <td>14.9</td>\n",
       "      <td>17.7</td>\n",
       "      <td>69.61</td>\n",
       "      <td>16.65</td>\n",
       "      <td>131</td>\n",
       "      <td>670</td>\n",
       "      <td>801</td>\n",
       "    </tr>\n",
       "    <tr>\n",
       "      <th>2</th>\n",
       "      <td>3</td>\n",
       "      <td>2018-01-03</td>\n",
       "      <td>spring</td>\n",
       "      <td>0</td>\n",
       "      <td>Jan</td>\n",
       "      <td>0</td>\n",
       "      <td>Wed</td>\n",
       "      <td>1</td>\n",
       "      <td>Clear_Sky</td>\n",
       "      <td>8.1</td>\n",
       "      <td>9.5</td>\n",
       "      <td>43.73</td>\n",
       "      <td>16.64</td>\n",
       "      <td>120</td>\n",
       "      <td>1229</td>\n",
       "      <td>1349</td>\n",
       "    </tr>\n",
       "    <tr>\n",
       "      <th>3</th>\n",
       "      <td>4</td>\n",
       "      <td>2018-01-04</td>\n",
       "      <td>spring</td>\n",
       "      <td>0</td>\n",
       "      <td>Jan</td>\n",
       "      <td>0</td>\n",
       "      <td>Thu</td>\n",
       "      <td>1</td>\n",
       "      <td>Clear_Sky</td>\n",
       "      <td>8.2</td>\n",
       "      <td>10.6</td>\n",
       "      <td>59.04</td>\n",
       "      <td>10.74</td>\n",
       "      <td>108</td>\n",
       "      <td>1454</td>\n",
       "      <td>1562</td>\n",
       "    </tr>\n",
       "    <tr>\n",
       "      <th>4</th>\n",
       "      <td>5</td>\n",
       "      <td>2018-01-05</td>\n",
       "      <td>spring</td>\n",
       "      <td>0</td>\n",
       "      <td>Jan</td>\n",
       "      <td>0</td>\n",
       "      <td>Fri</td>\n",
       "      <td>1</td>\n",
       "      <td>Clear_Sky</td>\n",
       "      <td>9.3</td>\n",
       "      <td>11.5</td>\n",
       "      <td>43.70</td>\n",
       "      <td>12.52</td>\n",
       "      <td>82</td>\n",
       "      <td>1518</td>\n",
       "      <td>1600</td>\n",
       "    </tr>\n",
       "  </tbody>\n",
       "</table>\n",
       "</div>"
      ],
      "text/plain": [
       "   instant     dteday  season  yr mnth  holiday weekday  workingday  \\\n",
       "0        1 2018-01-01  spring   0  Jan        0     Mon           0   \n",
       "1        2 2018-01-02  spring   0  Jan        0     Tue           0   \n",
       "2        3 2018-01-03  spring   0  Jan        0     Wed           1   \n",
       "3        4 2018-01-04  spring   0  Jan        0     Thu           1   \n",
       "4        5 2018-01-05  spring   0  Jan        0     Fri           1   \n",
       "\n",
       "  weathersit  temp  atemp    hum  windspeed  casual  registered   cnt  \n",
       "0      Misty  14.1   18.2  80.58      10.75     331         654   985  \n",
       "1      Misty  14.9   17.7  69.61      16.65     131         670   801  \n",
       "2  Clear_Sky   8.1    9.5  43.73      16.64     120        1229  1349  \n",
       "3  Clear_Sky   8.2   10.6  59.04      10.74     108        1454  1562  \n",
       "4  Clear_Sky   9.3   11.5  43.70      12.52      82        1518  1600  "
      ]
     },
     "execution_count": 23,
     "metadata": {},
     "output_type": "execute_result"
    }
   ],
   "source": [
    "#after renaming categories from numbers to names\n",
    "df.head()"
   ]
  },
  {
   "cell_type": "markdown",
   "metadata": {},
   "source": [
    "### --------------------------------------------------End of Data Cleaning---------------------------------------------------------"
   ]
  },
  {
   "cell_type": "markdown",
   "metadata": {},
   "source": [
    "### -----------------------------------------------------Data Visualization----------------------------------------------------------"
   ]
  },
  {
   "cell_type": "markdown",
   "metadata": {},
   "source": [
    "Checking data to identify correlations and outliers"
   ]
  },
  {
   "cell_type": "code",
   "execution_count": 24,
   "metadata": {},
   "outputs": [
    {
     "data": {
      "image/png": "[encoded data removed]",
      "text/plain": [
       "<Figure size 1296x288 with 4 Axes>"
      ]
     },
     "metadata": {},
     "output_type": "display_data"
    }
   ],
   "source": [
    "#checking if there are any outliers in the continous varaibles in the data we decided to keep\n",
    "plt.figure(figsize=(18, 4))\n",
    "plt.subplot(1,4,1)#1 row, 4 columns, first plot\n",
    "df.temp.plot.box()\n",
    "plt.subplot(1,4,2)#1 row, 4 columns, 2nd plot\n",
    "df.atemp.plot.box()\n",
    "plt.subplot(1,4,3)#third plot\n",
    "df.hum.plot.box()\n",
    "plt.subplot(1,4,4)#fourth plot\n",
    "df.windspeed.plot.box()\n",
    "plt.show()\n",
    "#dont see any outliers for any continous fields other than humidity\n",
    "#we will analyze the variable further"
   ]
  },
  {
   "cell_type": "code",
   "execution_count": 25,
   "metadata": {},
   "outputs": [
    {
     "data": {
      "text/plain": [
       "<matplotlib.axes._subplots.AxesSubplot at 0x25aa77160b8>"
      ]
     },
     "execution_count": 25,
     "metadata": {},
     "output_type": "execute_result"
    },
    {
     "data": {
      "image/png": "[encoded data removed]",
      "text/plain": [
       "<Figure size 1440x288 with 1 Axes>"
      ]
     },
     "metadata": {},
     "output_type": "display_data"
    }
   ],
   "source": [
    "#Checking how frequently humidity reaches zero\n",
    "plt.figure(figsize=(20, 4))\n",
    "df.hum.plot()#humidity reached zero only once\n",
    "#On further research, humidity may not actually reach zero, so we will remove this one row"
   ]
  },
  {
   "cell_type": "code",
   "execution_count": 26,
   "metadata": {},
   "outputs": [
    {
     "name": "stdout",
     "output_type": "stream",
     "text": [
      "(729, 16)\n"
     ]
    }
   ],
   "source": [
    "#print(df.shape)\n",
    "df=df.loc[df.hum!=0]#removed row where humidity is zero\n",
    "print(df.shape)#total rows reduced to 729 from 730"
   ]
  },
  {
   "cell_type": "code",
   "execution_count": 27,
   "metadata": {},
   "outputs": [
    {
     "data": {
      "image/png": "[encoded data removed]",
      "text/plain": [
       "<Figure size 1080x1080 with 2 Axes>"
      ]
     },
     "metadata": {},
     "output_type": "display_data"
    }
   ],
   "source": [
    "#Checking correlation table to see any correlations that we might have missed identifying\n",
    "#we will find correlation only for continous variables\n",
    "plt.figure(figsize=(15,15))\n",
    "sns.heatmap(df[['temp','atemp','hum','windspeed','casual','registered','cnt']].corr(), annot=True)\n",
    "\n",
    "plt.show()\n",
    "#there is huge correlation between atemp and temp, we already decided to drop temp\n",
    "#there is huge correlation between registered and cnt, we already decided to drop registered"
   ]
  },
  {
   "cell_type": "code",
   "execution_count": 28,
   "metadata": {},
   "outputs": [],
   "source": [
    "#sns.pairplot(df[['temp','atemp','hum','windspeed','casual','registered','cnt']])\n",
    "#plt.show()\n",
    "\n",
    "#pairplot has same inferences as heatmap above"
   ]
  },
  {
   "cell_type": "code",
   "execution_count": 29,
   "metadata": {},
   "outputs": [
    {
     "data": {
      "text/plain": [
       "<matplotlib.axes._subplots.AxesSubplot at 0x25aa7eaeb38>"
      ]
     },
     "execution_count": 29,
     "metadata": {},
     "output_type": "execute_result"
    },
    {
     "data": {
      "image/png": "[encoded data removed]",
      "text/plain": [
       "<Figure size 1080x288 with 3 Axes>"
      ]
     },
     "metadata": {},
     "output_type": "display_data"
    }
   ],
   "source": [
    "plt.figure(figsize=(15, 4))\n",
    "plt.subplot(1,3,1)\n",
    "sns.boxplot(x = 'yr', y = 'cnt', data = df)\n",
    "plt.subplot(1,3,2)\n",
    "sns.boxplot(x = 'holiday', y = 'cnt', data = df)\n",
    "plt.subplot(1,3,3)\n",
    "sns.boxplot(x = 'workingday', y = 'cnt', data = df)\n",
    "#for increase in 1 year, the demand seems to have clearly increased\n",
    "#holidays seem to have lesser demand than non-holidays, but holidays are much fewer to jump to any conclusion\n",
    "#workingday doesnt show any clear pattern"
   ]
  },
  {
   "cell_type": "code",
   "execution_count": 30,
   "metadata": {},
   "outputs": [
    {
     "data": {
      "text/plain": [
       "<matplotlib.axes._subplots.AxesSubplot at 0x25aa81032b0>"
      ]
     },
     "execution_count": 30,
     "metadata": {},
     "output_type": "execute_result"
    },
    {
     "data": {
      "image/png": "[encoded data removed]",
      "text/plain": [
       "<Figure size 1080x432 with 4 Axes>"
      ]
     },
     "metadata": {},
     "output_type": "display_data"
    }
   ],
   "source": [
    "#checking how categories like season, mnth, weekday, weathersit impact count\n",
    "plt.figure(figsize=(15, 6))\n",
    "plt.subplot(2,2,1)\n",
    "sns.boxplot(x = 'season', y = 'cnt', data = df)\n",
    "plt.subplot(2,2,2)\n",
    "sns.boxplot(x = 'mnth', y = 'cnt', data = df)\n",
    "plt.subplot(2,2,3)\n",
    "sns.boxplot(x = 'weekday', y = 'cnt', data = df)\n",
    "plt.subplot(2,2,4)\n",
    "sns.boxplot(x = 'weathersit', y = 'cnt', data = df)\n",
    "#spring seems to have less demand and other seasons have better demand\n",
    "#demand gradually increases from the start of the year and eventually falls at the end of year\n",
    "#weekday doesnt show any clear pattern\n",
    "#snow/rain clearly shows drop in demand"
   ]
  },
  {
   "cell_type": "markdown",
   "metadata": {},
   "source": [
    "### ---------------------------------------------End of Data Visualization----------------------------------------------------"
   ]
  },
  {
   "cell_type": "markdown",
   "metadata": {},
   "source": [
    "### -----------------------------------------------------Data Preparation--------------------------------------------------------"
   ]
  },
  {
   "cell_type": "markdown",
   "metadata": {},
   "source": [
    "We will create a new dataframe with only needed columns/variables and create dummy variables for categorical variables"
   ]
  },
  {
   "cell_type": "code",
   "execution_count": 31,
   "metadata": {},
   "outputs": [],
   "source": [
    "bike_data=df[['dteday', 'season', 'yr', 'mnth', 'holiday', 'weekday',\n",
    "       'workingday', 'weathersit', 'atemp', 'hum', 'windspeed', 'cnt']]\n",
    "#instant, temp, 'casual' and 'registered' have been ignored when creating new dataframe"
   ]
  },
  {
   "cell_type": "markdown",
   "metadata": {},
   "source": [
    "Derived metrics: We can add a metric called week of month to see if any particulat week in the month has more or lessd emand"
   ]
  },
  {
   "cell_type": "code",
   "execution_count": 32,
   "metadata": {},
   "outputs": [],
   "source": [
    "#next, we will get week of the month to see if any particular week in the month has significant demands over other weeks\n",
    "#months in general have either 30 or31 days except february which has 29 days in leap year and 28 days otherwise\n",
    "#dividing a month with 7(days of a week) will result in 5 weeks except february, and 5th week will have just 2 or 3 days\n",
    "#instead, lets divide a month into 4 quadrants by dividing with 8. 4th quadrant will have 6 or 7 days except in february\n",
    "import math\n",
    "bike_data['week_of_month']=bike_data['dteday'].dt.day.apply(lambda x: math.ceil(x/8))"
   ]
  },
  {
   "cell_type": "code",
   "execution_count": 33,
   "metadata": {},
   "outputs": [],
   "source": [
    "#converting week number to appropriate categories\n",
    "bike_data['week_of_month']=bike_data['week_of_month'].map({1:'1st_Week', 2:'2nd_Week', 3:'3rd_Week', 4:'4th_Week'})#dtype also got converted from int to object\n",
    "#bike_data[['dteday','week_of_month']].head(40)"
   ]
  },
  {
   "cell_type": "code",
   "execution_count": 34,
   "metadata": {},
   "outputs": [],
   "source": [
    "#now dteday is no longer needed because its values are already represented by yr, mnth, weekday and week_of_month columns\n",
    "#print(bike_data.shape)\n",
    "bike_data.drop('dteday',axis=1, inplace=True)#dropping the column dteday\n",
    "#print(bike_data.shape)"
   ]
  },
  {
   "cell_type": "markdown",
   "metadata": {},
   "source": [
    "<b>Creating Dummy variables:</b><br>\n",
    "Let's create dummy variables for categoric data"
   ]
  },
  {
   "cell_type": "code",
   "execution_count": 35,
   "metadata": {},
   "outputs": [
    {
     "data": {
      "text/html": [
       "<div>\n",
       "<style scoped>\n",
       "    .dataframe tbody tr th:only-of-type {\n",
       "        vertical-align: middle;\n",
       "    }\n",
       "\n",
       "    .dataframe tbody tr th {\n",
       "        vertical-align: top;\n",
       "    }\n",
       "\n",
       "    .dataframe thead th {\n",
       "        text-align: right;\n",
       "    }\n",
       "</style>\n",
       "<table border=\"1\" class=\"dataframe\">\n",
       "  <thead>\n",
       "    <tr style=\"text-align: right;\">\n",
       "      <th></th>\n",
       "      <th>season</th>\n",
       "      <th>yr</th>\n",
       "      <th>mnth</th>\n",
       "      <th>holiday</th>\n",
       "      <th>weekday</th>\n",
       "      <th>workingday</th>\n",
       "      <th>weathersit</th>\n",
       "      <th>atemp</th>\n",
       "      <th>hum</th>\n",
       "      <th>windspeed</th>\n",
       "      <th>cnt</th>\n",
       "      <th>week_of_month</th>\n",
       "    </tr>\n",
       "  </thead>\n",
       "  <tbody>\n",
       "    <tr>\n",
       "      <th>0</th>\n",
       "      <td>spring</td>\n",
       "      <td>0</td>\n",
       "      <td>Jan</td>\n",
       "      <td>0</td>\n",
       "      <td>Mon</td>\n",
       "      <td>0</td>\n",
       "      <td>Misty</td>\n",
       "      <td>18.2</td>\n",
       "      <td>80.58</td>\n",
       "      <td>10.75</td>\n",
       "      <td>985</td>\n",
       "      <td>1st_Week</td>\n",
       "    </tr>\n",
       "    <tr>\n",
       "      <th>1</th>\n",
       "      <td>spring</td>\n",
       "      <td>0</td>\n",
       "      <td>Jan</td>\n",
       "      <td>0</td>\n",
       "      <td>Tue</td>\n",
       "      <td>0</td>\n",
       "      <td>Misty</td>\n",
       "      <td>17.7</td>\n",
       "      <td>69.61</td>\n",
       "      <td>16.65</td>\n",
       "      <td>801</td>\n",
       "      <td>1st_Week</td>\n",
       "    </tr>\n",
       "    <tr>\n",
       "      <th>2</th>\n",
       "      <td>spring</td>\n",
       "      <td>0</td>\n",
       "      <td>Jan</td>\n",
       "      <td>0</td>\n",
       "      <td>Wed</td>\n",
       "      <td>1</td>\n",
       "      <td>Clear_Sky</td>\n",
       "      <td>9.5</td>\n",
       "      <td>43.73</td>\n",
       "      <td>16.64</td>\n",
       "      <td>1349</td>\n",
       "      <td>1st_Week</td>\n",
       "    </tr>\n",
       "    <tr>\n",
       "      <th>3</th>\n",
       "      <td>spring</td>\n",
       "      <td>0</td>\n",
       "      <td>Jan</td>\n",
       "      <td>0</td>\n",
       "      <td>Thu</td>\n",
       "      <td>1</td>\n",
       "      <td>Clear_Sky</td>\n",
       "      <td>10.6</td>\n",
       "      <td>59.04</td>\n",
       "      <td>10.74</td>\n",
       "      <td>1562</td>\n",
       "      <td>1st_Week</td>\n",
       "    </tr>\n",
       "    <tr>\n",
       "      <th>4</th>\n",
       "      <td>spring</td>\n",
       "      <td>0</td>\n",
       "      <td>Jan</td>\n",
       "      <td>0</td>\n",
       "      <td>Fri</td>\n",
       "      <td>1</td>\n",
       "      <td>Clear_Sky</td>\n",
       "      <td>11.5</td>\n",
       "      <td>43.70</td>\n",
       "      <td>12.52</td>\n",
       "      <td>1600</td>\n",
       "      <td>1st_Week</td>\n",
       "    </tr>\n",
       "  </tbody>\n",
       "</table>\n",
       "</div>"
      ],
      "text/plain": [
       "   season  yr mnth  holiday weekday  workingday weathersit  atemp    hum  \\\n",
       "0  spring   0  Jan        0     Mon           0      Misty   18.2  80.58   \n",
       "1  spring   0  Jan        0     Tue           0      Misty   17.7  69.61   \n",
       "2  spring   0  Jan        0     Wed           1  Clear_Sky    9.5  43.73   \n",
       "3  spring   0  Jan        0     Thu           1  Clear_Sky   10.6  59.04   \n",
       "4  spring   0  Jan        0     Fri           1  Clear_Sky   11.5  43.70   \n",
       "\n",
       "   windspeed   cnt week_of_month  \n",
       "0      10.75   985      1st_Week  \n",
       "1      16.65   801      1st_Week  \n",
       "2      16.64  1349      1st_Week  \n",
       "3      10.74  1562      1st_Week  \n",
       "4      12.52  1600      1st_Week  "
      ]
     },
     "execution_count": 35,
     "metadata": {},
     "output_type": "execute_result"
    }
   ],
   "source": [
    "#data before adding dummy variables\n",
    "bike_data.head()"
   ]
  },
  {
   "cell_type": "code",
   "execution_count": 36,
   "metadata": {},
   "outputs": [],
   "source": [
    "#creating dummy variables\n",
    "cols=['season', 'mnth', 'weekday', 'weathersit', 'week_of_month']#all columns with categories that need to be converted to dummy variables\n",
    "cate_dum = pd.get_dummies(bike_data[cols], drop_first = True)#note, these new category columns will have original column name prefixed to them, which is convenient, so we are not going to change that\n",
    "bike_data = pd.concat([bike_data, cate_dum], axis = 1)#concatenating dummy variables with bike_data\n",
    "bike_data=bike_data.drop(cols,axis=1)#since dummy variables are added as columns, we will drop original categorical columns\n",
    "#bike_data.shape#now we have 32 columns instead of 12"
   ]
  },
  {
   "cell_type": "markdown",
   "metadata": {},
   "source": [
    "Note 1: New category column names will have their original column names prefixed to them. If we want to avoid this, we can run as loop for each main category column and add all dummy variables for it in that loop. But the prefixes are quite convinient, so we will keep them.<br>\n",
    "Note 2: When we drop the first dummy varible, we will not calculate it's coefficient even though the model will be same irrespective of which single dummy variable has been dropped.<br>\n",
    "Note 3: Dummy varibles are following alphabetical order. As a result of this, the column sequence will not be Jan, Feb, Mar,..."
   ]
  },
  {
   "cell_type": "code",
   "execution_count": 37,
   "metadata": {},
   "outputs": [
    {
     "data": {
      "text/html": [
       "<div>\n",
       "<style scoped>\n",
       "    .dataframe tbody tr th:only-of-type {\n",
       "        vertical-align: middle;\n",
       "    }\n",
       "\n",
       "    .dataframe tbody tr th {\n",
       "        vertical-align: top;\n",
       "    }\n",
       "\n",
       "    .dataframe thead th {\n",
       "        text-align: right;\n",
       "    }\n",
       "</style>\n",
       "<table border=\"1\" class=\"dataframe\">\n",
       "  <thead>\n",
       "    <tr style=\"text-align: right;\">\n",
       "      <th></th>\n",
       "      <th>yr</th>\n",
       "      <th>holiday</th>\n",
       "      <th>workingday</th>\n",
       "      <th>atemp</th>\n",
       "      <th>hum</th>\n",
       "      <th>windspeed</th>\n",
       "      <th>cnt</th>\n",
       "      <th>season_spring</th>\n",
       "      <th>season_summer</th>\n",
       "      <th>season_winter</th>\n",
       "      <th>mnth_Aug</th>\n",
       "      <th>mnth_Dec</th>\n",
       "      <th>mnth_Feb</th>\n",
       "      <th>mnth_Jan</th>\n",
       "      <th>mnth_Jul</th>\n",
       "      <th>mnth_Jun</th>\n",
       "      <th>mnth_Mar</th>\n",
       "      <th>mnth_May</th>\n",
       "      <th>mnth_Nov</th>\n",
       "      <th>mnth_Oct</th>\n",
       "      <th>mnth_Sep</th>\n",
       "      <th>weekday_Mon</th>\n",
       "      <th>weekday_Sat</th>\n",
       "      <th>weekday_Sun</th>\n",
       "      <th>weekday_Thu</th>\n",
       "      <th>weekday_Tue</th>\n",
       "      <th>weekday_Wed</th>\n",
       "      <th>weathersit_Light_Snow/Rain</th>\n",
       "      <th>weathersit_Misty</th>\n",
       "      <th>week_of_month_2nd_Week</th>\n",
       "      <th>week_of_month_3rd_Week</th>\n",
       "      <th>week_of_month_4th_Week</th>\n",
       "    </tr>\n",
       "  </thead>\n",
       "  <tbody>\n",
       "    <tr>\n",
       "      <th>0</th>\n",
       "      <td>0</td>\n",
       "      <td>0</td>\n",
       "      <td>0</td>\n",
       "      <td>18.2</td>\n",
       "      <td>80.58</td>\n",
       "      <td>10.75</td>\n",
       "      <td>985</td>\n",
       "      <td>1</td>\n",
       "      <td>0</td>\n",
       "      <td>0</td>\n",
       "      <td>0</td>\n",
       "      <td>0</td>\n",
       "      <td>0</td>\n",
       "      <td>1</td>\n",
       "      <td>0</td>\n",
       "      <td>0</td>\n",
       "      <td>0</td>\n",
       "      <td>0</td>\n",
       "      <td>0</td>\n",
       "      <td>0</td>\n",
       "      <td>0</td>\n",
       "      <td>1</td>\n",
       "      <td>0</td>\n",
       "      <td>0</td>\n",
       "      <td>0</td>\n",
       "      <td>0</td>\n",
       "      <td>0</td>\n",
       "      <td>0</td>\n",
       "      <td>1</td>\n",
       "      <td>0</td>\n",
       "      <td>0</td>\n",
       "      <td>0</td>\n",
       "    </tr>\n",
       "    <tr>\n",
       "      <th>1</th>\n",
       "      <td>0</td>\n",
       "      <td>0</td>\n",
       "      <td>0</td>\n",
       "      <td>17.7</td>\n",
       "      <td>69.61</td>\n",
       "      <td>16.65</td>\n",
       "      <td>801</td>\n",
       "      <td>1</td>\n",
       "      <td>0</td>\n",
       "      <td>0</td>\n",
       "      <td>0</td>\n",
       "      <td>0</td>\n",
       "      <td>0</td>\n",
       "      <td>1</td>\n",
       "      <td>0</td>\n",
       "      <td>0</td>\n",
       "      <td>0</td>\n",
       "      <td>0</td>\n",
       "      <td>0</td>\n",
       "      <td>0</td>\n",
       "      <td>0</td>\n",
       "      <td>0</td>\n",
       "      <td>0</td>\n",
       "      <td>0</td>\n",
       "      <td>0</td>\n",
       "      <td>1</td>\n",
       "      <td>0</td>\n",
       "      <td>0</td>\n",
       "      <td>1</td>\n",
       "      <td>0</td>\n",
       "      <td>0</td>\n",
       "      <td>0</td>\n",
       "    </tr>\n",
       "    <tr>\n",
       "      <th>2</th>\n",
       "      <td>0</td>\n",
       "      <td>0</td>\n",
       "      <td>1</td>\n",
       "      <td>9.5</td>\n",
       "      <td>43.73</td>\n",
       "      <td>16.64</td>\n",
       "      <td>1349</td>\n",
       "      <td>1</td>\n",
       "      <td>0</td>\n",
       "      <td>0</td>\n",
       "      <td>0</td>\n",
       "      <td>0</td>\n",
       "      <td>0</td>\n",
       "      <td>1</td>\n",
       "      <td>0</td>\n",
       "      <td>0</td>\n",
       "      <td>0</td>\n",
       "      <td>0</td>\n",
       "      <td>0</td>\n",
       "      <td>0</td>\n",
       "      <td>0</td>\n",
       "      <td>0</td>\n",
       "      <td>0</td>\n",
       "      <td>0</td>\n",
       "      <td>0</td>\n",
       "      <td>0</td>\n",
       "      <td>1</td>\n",
       "      <td>0</td>\n",
       "      <td>0</td>\n",
       "      <td>0</td>\n",
       "      <td>0</td>\n",
       "      <td>0</td>\n",
       "    </tr>\n",
       "    <tr>\n",
       "      <th>3</th>\n",
       "      <td>0</td>\n",
       "      <td>0</td>\n",
       "      <td>1</td>\n",
       "      <td>10.6</td>\n",
       "      <td>59.04</td>\n",
       "      <td>10.74</td>\n",
       "      <td>1562</td>\n",
       "      <td>1</td>\n",
       "      <td>0</td>\n",
       "      <td>0</td>\n",
       "      <td>0</td>\n",
       "      <td>0</td>\n",
       "      <td>0</td>\n",
       "      <td>1</td>\n",
       "      <td>0</td>\n",
       "      <td>0</td>\n",
       "      <td>0</td>\n",
       "      <td>0</td>\n",
       "      <td>0</td>\n",
       "      <td>0</td>\n",
       "      <td>0</td>\n",
       "      <td>0</td>\n",
       "      <td>0</td>\n",
       "      <td>0</td>\n",
       "      <td>1</td>\n",
       "      <td>0</td>\n",
       "      <td>0</td>\n",
       "      <td>0</td>\n",
       "      <td>0</td>\n",
       "      <td>0</td>\n",
       "      <td>0</td>\n",
       "      <td>0</td>\n",
       "    </tr>\n",
       "    <tr>\n",
       "      <th>4</th>\n",
       "      <td>0</td>\n",
       "      <td>0</td>\n",
       "      <td>1</td>\n",
       "      <td>11.5</td>\n",
       "      <td>43.70</td>\n",
       "      <td>12.52</td>\n",
       "      <td>1600</td>\n",
       "      <td>1</td>\n",
       "      <td>0</td>\n",
       "      <td>0</td>\n",
       "      <td>0</td>\n",
       "      <td>0</td>\n",
       "      <td>0</td>\n",
       "      <td>1</td>\n",
       "      <td>0</td>\n",
       "      <td>0</td>\n",
       "      <td>0</td>\n",
       "      <td>0</td>\n",
       "      <td>0</td>\n",
       "      <td>0</td>\n",
       "      <td>0</td>\n",
       "      <td>0</td>\n",
       "      <td>0</td>\n",
       "      <td>0</td>\n",
       "      <td>0</td>\n",
       "      <td>0</td>\n",
       "      <td>0</td>\n",
       "      <td>0</td>\n",
       "      <td>0</td>\n",
       "      <td>0</td>\n",
       "      <td>0</td>\n",
       "      <td>0</td>\n",
       "    </tr>\n",
       "  </tbody>\n",
       "</table>\n",
       "</div>"
      ],
      "text/plain": [
       "   yr  holiday  workingday  atemp    hum  windspeed   cnt  season_spring  \\\n",
       "0   0        0           0   18.2  80.58      10.75   985              1   \n",
       "1   0        0           0   17.7  69.61      16.65   801              1   \n",
       "2   0        0           1    9.5  43.73      16.64  1349              1   \n",
       "3   0        0           1   10.6  59.04      10.74  1562              1   \n",
       "4   0        0           1   11.5  43.70      12.52  1600              1   \n",
       "\n",
       "   season_summer  season_winter  mnth_Aug  mnth_Dec  mnth_Feb  mnth_Jan  \\\n",
       "0              0              0         0         0         0         1   \n",
       "1              0              0         0         0         0         1   \n",
       "2              0              0         0         0         0         1   \n",
       "3              0              0         0         0         0         1   \n",
       "4              0              0         0         0         0         1   \n",
       "\n",
       "   mnth_Jul  mnth_Jun  mnth_Mar  mnth_May  mnth_Nov  mnth_Oct  mnth_Sep  \\\n",
       "0         0         0         0         0         0         0         0   \n",
       "1         0         0         0         0         0         0         0   \n",
       "2         0         0         0         0         0         0         0   \n",
       "3         0         0         0         0         0         0         0   \n",
       "4         0         0         0         0         0         0         0   \n",
       "\n",
       "   weekday_Mon  weekday_Sat  weekday_Sun  weekday_Thu  weekday_Tue  \\\n",
       "0            1            0            0            0            0   \n",
       "1            0            0            0            0            1   \n",
       "2            0            0            0            0            0   \n",
       "3            0            0            0            1            0   \n",
       "4            0            0            0            0            0   \n",
       "\n",
       "   weekday_Wed  weathersit_Light_Snow/Rain  weathersit_Misty  \\\n",
       "0            0                           0                 1   \n",
       "1            0                           0                 1   \n",
       "2            1                           0                 0   \n",
       "3            0                           0                 0   \n",
       "4            0                           0                 0   \n",
       "\n",
       "   week_of_month_2nd_Week  week_of_month_3rd_Week  week_of_month_4th_Week  \n",
       "0                       0                       0                       0  \n",
       "1                       0                       0                       0  \n",
       "2                       0                       0                       0  \n",
       "3                       0                       0                       0  \n",
       "4                       0                       0                       0  "
      ]
     },
     "execution_count": 37,
     "metadata": {},
     "output_type": "execute_result"
    }
   ],
   "source": [
    "pd.set_option('display.max_columns', 40)#increased the size of display to 40 so that we can see all of 32 columns in one go\n",
    "bike_data.head()#Updated dataframe with all dummy variables"
   ]
  },
  {
   "cell_type": "markdown",
   "metadata": {},
   "source": [
    "<b>Splitting data into train and test groups:</b><br>\n",
    "Splitting data randomly into 70% training and 30% testing sets"
   ]
  },
  {
   "cell_type": "code",
   "execution_count": 38,
   "metadata": {},
   "outputs": [],
   "source": [
    "from sklearn.model_selection import train_test_split\n",
    "bike_data_train, bike_data_test = train_test_split(bike_data, train_size = 0.7, test_size = 0.3, random_state = 101)\n",
    "#used random state(101) to keep the data consistent in all reruns"
   ]
  },
  {
   "cell_type": "markdown",
   "metadata": {},
   "source": [
    "<b>Scaling continous data:</b><br>\n",
    "Scaling continous data to fit in the range 0-1<br>\n",
    "Note: We scale with minmax scaler only on train data"
   ]
  },
  {
   "cell_type": "code",
   "execution_count": 39,
   "metadata": {},
   "outputs": [],
   "source": [
    "from sklearn.preprocessing import MinMaxScaler\n",
    "scaler = MinMaxScaler()"
   ]
  },
  {
   "cell_type": "code",
   "execution_count": 40,
   "metadata": {},
   "outputs": [
    {
     "data": {
      "text/html": [
       "<div>\n",
       "<style scoped>\n",
       "    .dataframe tbody tr th:only-of-type {\n",
       "        vertical-align: middle;\n",
       "    }\n",
       "\n",
       "    .dataframe tbody tr th {\n",
       "        vertical-align: top;\n",
       "    }\n",
       "\n",
       "    .dataframe thead th {\n",
       "        text-align: right;\n",
       "    }\n",
       "</style>\n",
       "<table border=\"1\" class=\"dataframe\">\n",
       "  <thead>\n",
       "    <tr style=\"text-align: right;\">\n",
       "      <th></th>\n",
       "      <th>yr</th>\n",
       "      <th>holiday</th>\n",
       "      <th>workingday</th>\n",
       "      <th>atemp</th>\n",
       "      <th>hum</th>\n",
       "      <th>windspeed</th>\n",
       "      <th>cnt</th>\n",
       "      <th>season_spring</th>\n",
       "      <th>season_summer</th>\n",
       "      <th>season_winter</th>\n",
       "      <th>mnth_Aug</th>\n",
       "      <th>mnth_Dec</th>\n",
       "      <th>mnth_Feb</th>\n",
       "      <th>mnth_Jan</th>\n",
       "      <th>mnth_Jul</th>\n",
       "      <th>mnth_Jun</th>\n",
       "      <th>mnth_Mar</th>\n",
       "      <th>mnth_May</th>\n",
       "      <th>mnth_Nov</th>\n",
       "      <th>mnth_Oct</th>\n",
       "      <th>mnth_Sep</th>\n",
       "      <th>weekday_Mon</th>\n",
       "      <th>weekday_Sat</th>\n",
       "      <th>weekday_Sun</th>\n",
       "      <th>weekday_Thu</th>\n",
       "      <th>weekday_Tue</th>\n",
       "      <th>weekday_Wed</th>\n",
       "      <th>weathersit_Light_Snow/Rain</th>\n",
       "      <th>weathersit_Misty</th>\n",
       "      <th>week_of_month_2nd_Week</th>\n",
       "      <th>week_of_month_3rd_Week</th>\n",
       "      <th>week_of_month_4th_Week</th>\n",
       "    </tr>\n",
       "  </thead>\n",
       "  <tbody>\n",
       "    <tr>\n",
       "      <th>53</th>\n",
       "      <td>0</td>\n",
       "      <td>0</td>\n",
       "      <td>1</td>\n",
       "      <td>0.222520</td>\n",
       "      <td>0.299643</td>\n",
       "      <td>0.148000</td>\n",
       "      <td>0.222079</td>\n",
       "      <td>1</td>\n",
       "      <td>0</td>\n",
       "      <td>0</td>\n",
       "      <td>0</td>\n",
       "      <td>0</td>\n",
       "      <td>1</td>\n",
       "      <td>0</td>\n",
       "      <td>0</td>\n",
       "      <td>0</td>\n",
       "      <td>0</td>\n",
       "      <td>0</td>\n",
       "      <td>0</td>\n",
       "      <td>0</td>\n",
       "      <td>0</td>\n",
       "      <td>0</td>\n",
       "      <td>0</td>\n",
       "      <td>0</td>\n",
       "      <td>0</td>\n",
       "      <td>0</td>\n",
       "      <td>0</td>\n",
       "      <td>0</td>\n",
       "      <td>0</td>\n",
       "      <td>0</td>\n",
       "      <td>1</td>\n",
       "      <td>0</td>\n",
       "    </tr>\n",
       "    <tr>\n",
       "      <th>118</th>\n",
       "      <td>0</td>\n",
       "      <td>0</td>\n",
       "      <td>1</td>\n",
       "      <td>0.560322</td>\n",
       "      <td>0.343105</td>\n",
       "      <td>0.448615</td>\n",
       "      <td>0.535919</td>\n",
       "      <td>0</td>\n",
       "      <td>1</td>\n",
       "      <td>0</td>\n",
       "      <td>0</td>\n",
       "      <td>0</td>\n",
       "      <td>0</td>\n",
       "      <td>0</td>\n",
       "      <td>0</td>\n",
       "      <td>0</td>\n",
       "      <td>0</td>\n",
       "      <td>0</td>\n",
       "      <td>0</td>\n",
       "      <td>0</td>\n",
       "      <td>0</td>\n",
       "      <td>0</td>\n",
       "      <td>0</td>\n",
       "      <td>1</td>\n",
       "      <td>0</td>\n",
       "      <td>0</td>\n",
       "      <td>0</td>\n",
       "      <td>0</td>\n",
       "      <td>0</td>\n",
       "      <td>0</td>\n",
       "      <td>0</td>\n",
       "      <td>1</td>\n",
       "    </tr>\n",
       "    <tr>\n",
       "      <th>505</th>\n",
       "      <td>1</td>\n",
       "      <td>0</td>\n",
       "      <td>1</td>\n",
       "      <td>0.651475</td>\n",
       "      <td>0.794418</td>\n",
       "      <td>0.434462</td>\n",
       "      <td>0.508262</td>\n",
       "      <td>0</td>\n",
       "      <td>1</td>\n",
       "      <td>0</td>\n",
       "      <td>0</td>\n",
       "      <td>0</td>\n",
       "      <td>0</td>\n",
       "      <td>0</td>\n",
       "      <td>0</td>\n",
       "      <td>0</td>\n",
       "      <td>0</td>\n",
       "      <td>1</td>\n",
       "      <td>0</td>\n",
       "      <td>0</td>\n",
       "      <td>0</td>\n",
       "      <td>0</td>\n",
       "      <td>0</td>\n",
       "      <td>0</td>\n",
       "      <td>0</td>\n",
       "      <td>0</td>\n",
       "      <td>1</td>\n",
       "      <td>0</td>\n",
       "      <td>1</td>\n",
       "      <td>0</td>\n",
       "      <td>1</td>\n",
       "      <td>0</td>\n",
       "    </tr>\n",
       "    <tr>\n",
       "      <th>60</th>\n",
       "      <td>0</td>\n",
       "      <td>0</td>\n",
       "      <td>1</td>\n",
       "      <td>0.321716</td>\n",
       "      <td>0.333546</td>\n",
       "      <td>0.588308</td>\n",
       "      <td>0.247510</td>\n",
       "      <td>1</td>\n",
       "      <td>0</td>\n",
       "      <td>0</td>\n",
       "      <td>0</td>\n",
       "      <td>0</td>\n",
       "      <td>0</td>\n",
       "      <td>0</td>\n",
       "      <td>0</td>\n",
       "      <td>0</td>\n",
       "      <td>1</td>\n",
       "      <td>0</td>\n",
       "      <td>0</td>\n",
       "      <td>0</td>\n",
       "      <td>0</td>\n",
       "      <td>0</td>\n",
       "      <td>0</td>\n",
       "      <td>0</td>\n",
       "      <td>0</td>\n",
       "      <td>0</td>\n",
       "      <td>0</td>\n",
       "      <td>0</td>\n",
       "      <td>0</td>\n",
       "      <td>0</td>\n",
       "      <td>0</td>\n",
       "      <td>0</td>\n",
       "    </tr>\n",
       "    <tr>\n",
       "      <th>73</th>\n",
       "      <td>0</td>\n",
       "      <td>0</td>\n",
       "      <td>1</td>\n",
       "      <td>0.319035</td>\n",
       "      <td>0.596227</td>\n",
       "      <td>0.333846</td>\n",
       "      <td>0.238369</td>\n",
       "      <td>1</td>\n",
       "      <td>0</td>\n",
       "      <td>0</td>\n",
       "      <td>0</td>\n",
       "      <td>0</td>\n",
       "      <td>0</td>\n",
       "      <td>0</td>\n",
       "      <td>0</td>\n",
       "      <td>0</td>\n",
       "      <td>1</td>\n",
       "      <td>0</td>\n",
       "      <td>0</td>\n",
       "      <td>0</td>\n",
       "      <td>0</td>\n",
       "      <td>0</td>\n",
       "      <td>0</td>\n",
       "      <td>0</td>\n",
       "      <td>1</td>\n",
       "      <td>0</td>\n",
       "      <td>0</td>\n",
       "      <td>0</td>\n",
       "      <td>1</td>\n",
       "      <td>1</td>\n",
       "      <td>0</td>\n",
       "      <td>0</td>\n",
       "    </tr>\n",
       "  </tbody>\n",
       "</table>\n",
       "</div>"
      ],
      "text/plain": [
       "     yr  holiday  workingday     atemp       hum  windspeed       cnt  \\\n",
       "53    0        0           1  0.222520  0.299643   0.148000  0.222079   \n",
       "118   0        0           1  0.560322  0.343105   0.448615  0.535919   \n",
       "505   1        0           1  0.651475  0.794418   0.434462  0.508262   \n",
       "60    0        0           1  0.321716  0.333546   0.588308  0.247510   \n",
       "73    0        0           1  0.319035  0.596227   0.333846  0.238369   \n",
       "\n",
       "     season_spring  season_summer  season_winter  mnth_Aug  mnth_Dec  \\\n",
       "53               1              0              0         0         0   \n",
       "118              0              1              0         0         0   \n",
       "505              0              1              0         0         0   \n",
       "60               1              0              0         0         0   \n",
       "73               1              0              0         0         0   \n",
       "\n",
       "     mnth_Feb  mnth_Jan  mnth_Jul  mnth_Jun  mnth_Mar  mnth_May  mnth_Nov  \\\n",
       "53          1         0         0         0         0         0         0   \n",
       "118         0         0         0         0         0         0         0   \n",
       "505         0         0         0         0         0         1         0   \n",
       "60          0         0         0         0         1         0         0   \n",
       "73          0         0         0         0         1         0         0   \n",
       "\n",
       "     mnth_Oct  mnth_Sep  weekday_Mon  weekday_Sat  weekday_Sun  weekday_Thu  \\\n",
       "53          0         0            0            0            0            0   \n",
       "118         0         0            0            0            1            0   \n",
       "505         0         0            0            0            0            0   \n",
       "60          0         0            0            0            0            0   \n",
       "73          0         0            0            0            0            1   \n",
       "\n",
       "     weekday_Tue  weekday_Wed  weathersit_Light_Snow/Rain  weathersit_Misty  \\\n",
       "53             0            0                           0                 0   \n",
       "118            0            0                           0                 0   \n",
       "505            0            1                           0                 1   \n",
       "60             0            0                           0                 0   \n",
       "73             0            0                           0                 1   \n",
       "\n",
       "     week_of_month_2nd_Week  week_of_month_3rd_Week  week_of_month_4th_Week  \n",
       "53                        0                       1                       0  \n",
       "118                       0                       0                       1  \n",
       "505                       0                       1                       0  \n",
       "60                        0                       0                       0  \n",
       "73                        1                       0                       0  "
      ]
     },
     "execution_count": 40,
     "metadata": {},
     "output_type": "execute_result"
    }
   ],
   "source": [
    "cont_vars = ['atemp', 'hum', 'windspeed', 'cnt']#list of columns with continous numeric values\n",
    "#cnt is an integer field, but since we need scale it to something between 0-1, it will end up being a float\n",
    "bike_data_train[cont_vars] = scaler.fit_transform(bike_data_train[cont_vars])\n",
    "\n",
    "bike_data_train.head()\n",
    "#bike_data_train.shape#train data has 510 rows, test data has remaining 219 rows"
   ]
  },
  {
   "cell_type": "markdown",
   "metadata": {},
   "source": [
    "<b>Splitting train data:</b><br>\n",
    "We will further split train data into X(all independent variables) and y(dependent variable)"
   ]
  },
  {
   "cell_type": "code",
   "execution_count": 41,
   "metadata": {},
   "outputs": [],
   "source": [
    "y_train = bike_data_train.pop('cnt')#cnt column has been removed from bike_data_train and assigned to y_train\n",
    "X_train = bike_data_train#after popping the cnt column, X_train has rest of independent varibles"
   ]
  },
  {
   "cell_type": "markdown",
   "metadata": {},
   "source": [
    "### -------------------------------------------------End of Data Preparation----------------------------------------------------"
   ]
  },
  {
   "cell_type": "markdown",
   "metadata": {},
   "source": [
    "### --------------------------------------------------Building Model - Part1-----------------------------------------------------"
   ]
  },
  {
   "cell_type": "markdown",
   "metadata": {},
   "source": [
    "Since we have 31 independent features, it better to use an automated system to remove less significant features.<br> \n",
    "But before that we will see how good the fit is for all 31 features<br>\n",
    "In part1, we will build a model with all the features, this will help us have a model with minimal error.<br>\n",
    "Later, in part2, we will use RFE and drop few features on a trial and error basis to arrive at the best fit, while having least number of features<br>\n",
    "<b>Note: </b>If you get <ins>SVD did not converge</ins> error, rerun the cell manually "
   ]
  },
  {
   "cell_type": "code",
   "execution_count": 42,
   "metadata": {},
   "outputs": [],
   "source": [
    "import statsmodels.api as sm\n",
    "\n",
    "X_train_lreg1 = sm.add_constant(X_train)#adding a column with constant for intercept\n",
    "\n",
    "lr1 = sm.OLS(y_train, X_train_lreg1).fit()#fitting linear regression model for train data"
   ]
  },
  {
   "cell_type": "code",
   "execution_count": 43,
   "metadata": {},
   "outputs": [
    {
     "data": {
      "text/plain": [
       "const                         0.270533\n",
       "yr                            0.242809\n",
       "holiday                       0.005129\n",
       "workingday                    0.104938\n",
       "atemp                         0.407459\n",
       "hum                          -0.165373\n",
       "windspeed                    -0.154164\n",
       "season_spring                -0.117507\n",
       "season_summer                 0.007891\n",
       "season_winter                 0.073206\n",
       "mnth_Aug                      0.024740\n",
       "mnth_Dec                     -0.038743\n",
       "mnth_Feb                     -0.024604\n",
       "mnth_Jan                     -0.039972\n",
       "mnth_Jul                     -0.025711\n",
       "mnth_Jun                      0.012093\n",
       "mnth_Mar                      0.031591\n",
       "mnth_May                      0.033896\n",
       "mnth_Nov                     -0.059204\n",
       "mnth_Oct                      0.020210\n",
       "mnth_Sep                      0.082928\n",
       "weekday_Mon                   0.105166\n",
       "weekday_Sat                  -0.006547\n",
       "weekday_Sun                   0.002516\n",
       "weekday_Thu                  -0.016109\n",
       "weekday_Tue                   0.055300\n",
       "weekday_Wed                  -0.029872\n",
       "weathersit_Light_Snow/Rain   -0.210230\n",
       "weathersit_Misty             -0.049289\n",
       "week_of_month_2nd_Week        0.016488\n",
       "week_of_month_3rd_Week        0.015730\n",
       "week_of_month_4th_Week       -0.010880\n",
       "dtype: float64"
      ]
     },
     "execution_count": 43,
     "metadata": {},
     "output_type": "execute_result"
    }
   ],
   "source": [
    "lr1.params#coefficients of the trained model"
   ]
  },
  {
   "cell_type": "code",
   "execution_count": 44,
   "metadata": {},
   "outputs": [
    {
     "name": "stdout",
     "output_type": "stream",
     "text": [
      "                            OLS Regression Results                            \n",
      "==============================================================================\n",
      "Dep. Variable:                    cnt   R-squared:                       0.859\n",
      "Model:                            OLS   Adj. R-squared:                  0.850\n",
      "Method:                 Least Squares   F-statistic:                     96.90\n",
      "Date:                Sun, 06 Jun 2021   Prob (F-statistic):          1.62e-182\n",
      "Time:                        11:32:08   Log-Likelihood:                 525.27\n",
      "No. Observations:                 510   AIC:                            -988.5\n",
      "Df Residuals:                     479   BIC:                            -857.3\n",
      "Df Model:                          30                                         \n",
      "Covariance Type:            nonrobust                                         \n",
      "==============================================================================================\n",
      "                                 coef    std err          t      P>|t|      [0.025      0.975]\n",
      "----------------------------------------------------------------------------------------------\n",
      "const                          0.2705      0.034      7.992      0.000       0.204       0.337\n",
      "yr                             0.2428      0.008     29.972      0.000       0.227       0.259\n",
      "holiday                        0.0051      0.024      0.210      0.834      -0.043       0.053\n",
      "workingday                     0.1049      0.012      8.442      0.000       0.081       0.129\n",
      "atemp                          0.4075      0.043      9.459      0.000       0.323       0.492\n",
      "hum                           -0.1654      0.034     -4.832      0.000      -0.233      -0.098\n",
      "windspeed                     -0.1542      0.027     -5.633      0.000      -0.208      -0.100\n",
      "season_spring                 -0.1175      0.030     -3.980      0.000      -0.176      -0.059\n",
      "season_summer                  0.0079      0.025      0.321      0.749      -0.040       0.056\n",
      "season_winter                  0.0732      0.026      2.828      0.005       0.022       0.124\n",
      "mnth_Aug                       0.0247      0.033      0.754      0.451      -0.040       0.089\n",
      "mnth_Dec                      -0.0387      0.033     -1.168      0.243      -0.104       0.026\n",
      "mnth_Feb                      -0.0246      0.034     -0.730      0.466      -0.091       0.042\n",
      "mnth_Jan                      -0.0400      0.034     -1.169      0.243      -0.107       0.027\n",
      "mnth_Jul                      -0.0257      0.033     -0.768      0.443      -0.091       0.040\n",
      "mnth_Jun                       0.0121      0.023      0.519      0.604      -0.034       0.058\n",
      "mnth_Mar                       0.0316      0.027      1.156      0.248      -0.022       0.085\n",
      "mnth_May                       0.0339      0.020      1.665      0.097      -0.006       0.074\n",
      "mnth_Nov                      -0.0592      0.036     -1.632      0.103      -0.131       0.012\n",
      "mnth_Oct                       0.0202      0.036      0.567      0.571      -0.050       0.090\n",
      "mnth_Sep                       0.0829      0.031      2.672      0.008       0.022       0.144\n",
      "weekday_Mon                    0.1052      0.014      7.622      0.000       0.078       0.132\n",
      "weekday_Sat                   -0.0065      0.015     -0.429      0.668      -0.037       0.023\n",
      "weekday_Sun                    0.0025      0.015      0.169      0.866      -0.027       0.032\n",
      "weekday_Thu                   -0.0161      0.015     -1.077      0.282      -0.045       0.013\n",
      "weekday_Tue                    0.0553      0.014      4.054      0.000       0.028       0.082\n",
      "weekday_Wed                   -0.0299      0.016     -1.914      0.056      -0.061       0.001\n",
      "weathersit_Light_Snow/Rain    -0.2102      0.030     -7.097      0.000      -0.268      -0.152\n",
      "weathersit_Misty              -0.0493      0.011     -4.511      0.000      -0.071      -0.028\n",
      "week_of_month_2nd_Week         0.0165      0.011      1.508      0.132      -0.005       0.038\n",
      "week_of_month_3rd_Week         0.0157      0.011      1.432      0.153      -0.006       0.037\n",
      "week_of_month_4th_Week        -0.0109      0.012     -0.903      0.367      -0.035       0.013\n",
      "==============================================================================\n",
      "Omnibus:                      104.139   Durbin-Watson:                   1.892\n",
      "Prob(Omnibus):                  0.000   Jarque-Bera (JB):              291.081\n",
      "Skew:                          -0.985   Prob(JB):                     6.20e-64\n",
      "Kurtosis:                       6.133   Cond. No.                     1.17e+16\n",
      "==============================================================================\n",
      "\n",
      "Warnings:\n",
      "[1] Standard Errors assume that the covariance matrix of the errors is correctly specified.\n",
      "[2] The smallest eigenvalue is 1.2e-29. This might indicate that there are\n",
      "strong multicollinearity problems or that the design matrix is singular.\n"
     ]
    }
   ],
   "source": [
    "print(lr1.summary())#summary with R-sqaured error, coefficients and corresponding p-values\n",
    "#probability of F-statistic is very low, which is a good sign of overall fit\n",
    "#R-sqaured is 85% which means RSS is quite low compared to TSS\n",
    "#some coefficients are negative which can mean that a increase in these features may further decrease demand\n",
    "#and some coefficients have p-value>5%, this means that the probability of that coefficient being 0 is higher"
   ]
  },
  {
   "cell_type": "markdown",
   "metadata": {},
   "source": [
    "<b>Residual analysis</b> on the training data<br>\n",
    "Let's see if the residual errors follow gaussian distribution"
   ]
  },
  {
   "cell_type": "code",
   "execution_count": 45,
   "metadata": {},
   "outputs": [],
   "source": [
    "y_train_pred = lr1.predict(X_train_lreg1)#predicted y values for training data based on the trained model for all coefficints"
   ]
  },
  {
   "cell_type": "code",
   "execution_count": 46,
   "metadata": {},
   "outputs": [
    {
     "name": "stderr",
     "output_type": "stream",
     "text": [
      "C:\\Users\\Venki\\Anaconda3\\lib\\site-packages\\scipy\\stats\\stats.py:1713: FutureWarning: Using a non-tuple sequence for multidimensional indexing is deprecated; use `arr[tuple(seq)]` instead of `arr[seq]`. In the future this will be interpreted as an array index, `arr[np.array(seq)]`, which will result either in an error or a different result.\n",
      "  return np.add.reduce(sorted[indexer] * weights, axis=axis) / sumval\n"
     ]
    },
    {
     "data": {
      "image/png": "[encoded data removed]",
      "text/plain": [
       "<Figure size 432x288 with 1 Axes>"
      ]
     },
     "metadata": {},
     "output_type": "display_data"
    },
    {
     "data": {
      "text/plain": [
       "-2.4914710817323366e-16"
      ]
     },
     "execution_count": 46,
     "metadata": {},
     "output_type": "execute_result"
    }
   ],
   "source": [
    "# Plot the histogram of the error terms\n",
    "fig = plt.figure()\n",
    "sns.distplot((y_train - y_train_pred), bins = 30)#plotting residual distribution\n",
    "fig.suptitle('Error Distribution', fontsize = 20)\n",
    "plt.xlabel('Error values', fontsize = 18) \n",
    "plt.show()\n",
    "#From the figure, we can say that errors are distributed around 0.0\n",
    "import numpy as np\n",
    "np.mean(y_train - y_train_pred)#residual average is extremely small, almost zero\n",
    "#the error distribution is in bell shape, this is gaussian"
   ]
  },
  {
   "cell_type": "code",
   "execution_count": 47,
   "metadata": {},
   "outputs": [
    {
     "data": {
      "image/png": "[encoded data removed]",
      "text/plain": [
       "<Figure size 432x288 with 1 Axes>"
      ]
     },
     "metadata": {},
     "output_type": "display_data"
    }
   ],
   "source": [
    "plt.scatter(pd.DataFrame(X_train.index),(y_train - y_train_pred))#plotting the residuals w.r.t each x_train, it shouldnt follow any pattern\n",
    "plt.show()\n",
    "#there the residuals seem homoscedastic which seems to be a good sign of the model"
   ]
  },
  {
   "cell_type": "markdown",
   "metadata": {},
   "source": [
    "<b>Predicting on test data</b>"
   ]
  },
  {
   "cell_type": "code",
   "execution_count": 48,
   "metadata": {},
   "outputs": [],
   "source": [
    "cont_vars = ['atemp', 'hum', 'windspeed', 'cnt']#list of columns that are scaled previously\n",
    "\n",
    "bike_data_test[cont_vars] = scaler.transform(bike_data_test[cont_vars])#scaling the 4 continous columns above with the metrics from train fit\n",
    "#bike_data_test.head()"
   ]
  },
  {
   "cell_type": "code",
   "execution_count": 49,
   "metadata": {},
   "outputs": [],
   "source": [
    "#preparing X_test and y_test\n",
    "y_test = bike_data_test[['cnt']]\n",
    "X_test = bike_data_test.drop('cnt',axis=1,inplace=False)"
   ]
  },
  {
   "cell_type": "code",
   "execution_count": 50,
   "metadata": {},
   "outputs": [],
   "source": [
    "X_test_lreg1 = sm.add_constant(X_test)#adding constant column to X_test\n",
    "\n",
    "y_test_pred = lr1.predict(X_test_lreg1)#predict y for X_test with constant"
   ]
  },
  {
   "cell_type": "code",
   "execution_count": 51,
   "metadata": {},
   "outputs": [
    {
     "data": {
      "image/png": "[encoded data removed]",
      "text/plain": [
       "<Figure size 432x288 with 1 Axes>"
      ]
     },
     "metadata": {},
     "output_type": "display_data"
    }
   ],
   "source": [
    "# Scatter plot to see how actual y_test varies with predicted y\n",
    "fig = plt.figure()\n",
    "plt.scatter(y_test,y_test_pred)\n",
    "fig.suptitle('y_test vs y_test_pred', fontsize=20)  \n",
    "plt.xlabel('y_test', fontsize=18)                   \n",
    "plt.ylabel('y_test_pred', fontsize=16)  \n",
    "plt.show()\n",
    "#the is a clear correlation between predicted and actual y values for test data"
   ]
  },
  {
   "cell_type": "markdown",
   "metadata": {},
   "source": [
    "Measuring R-Squared for test data"
   ]
  },
  {
   "cell_type": "code",
   "execution_count": 52,
   "metadata": {},
   "outputs": [
    {
     "data": {
      "text/plain": [
       "0.8182270682379869"
      ]
     },
     "execution_count": 52,
     "metadata": {},
     "output_type": "execute_result"
    }
   ],
   "source": [
    "from sklearn.metrics import r2_score\n",
    "\n",
    "r2_score(y_true=y_test,y_pred=y_test_pred)#r2 score 81% for test against 85% for train\n",
    "#looks like the model is a good predictor of count for given parameters"
   ]
  },
  {
   "cell_type": "markdown",
   "metadata": {},
   "source": [
    "### --------------------------------------------End of Building Model - Part1------------------------------------------------"
   ]
  },
  {
   "cell_type": "markdown",
   "metadata": {},
   "source": [
    "### --------------------------------------------------Building Model - Part2-----------------------------------------------------"
   ]
  },
  {
   "cell_type": "markdown",
   "metadata": {},
   "source": [
    "We will use recursive feature elimination to build model with only important features and ignore others<br>\n",
    "We will use sklearn to create an estimator model for RFE. \n",
    "We will also use stasmodels with important features generated by RFE"
   ]
  },
  {
   "cell_type": "code",
   "execution_count": 53,
   "metadata": {},
   "outputs": [],
   "source": [
    "from sklearn.feature_selection import RFE\n",
    "from sklearn.linear_model import LinearRegression"
   ]
  },
  {
   "cell_type": "markdown",
   "metadata": {},
   "source": [
    "<b>Note:</b>We run the following RFE code several times to reduce the number of significant variables to as low as possible whicle still having good R-Squared compared to original<br>\n",
    "If we decrease significant variables below 15, the test R-Square is falling close to 76%"
   ]
  },
  {
   "cell_type": "code",
   "execution_count": 54,
   "metadata": {},
   "outputs": [],
   "source": [
    "lm = LinearRegression()\n",
    "lm.fit(X_train, y_train)\n",
    "\n",
    "rfe = RFE(lm, 15)#using sklearn linear regression, we are picking only top n number of significant features             \n",
    "rfe = rfe.fit(X_train, y_train)"
   ]
  },
  {
   "cell_type": "code",
   "execution_count": 55,
   "metadata": {},
   "outputs": [
    {
     "data": {
      "text/plain": [
       "[('yr', True, 1),\n",
       " ('holiday', True, 1),\n",
       " ('workingday', False, 4),\n",
       " ('atemp', True, 1),\n",
       " ('hum', True, 1),\n",
       " ('windspeed', True, 1),\n",
       " ('season_spring', False, 12),\n",
       " ('season_summer', False, 15),\n",
       " ('season_winter', True, 1),\n",
       " ('mnth_Aug', False, 8),\n",
       " ('mnth_Dec', True, 1),\n",
       " ('mnth_Feb', True, 1),\n",
       " ('mnth_Jan', True, 1),\n",
       " ('mnth_Jul', True, 1),\n",
       " ('mnth_Jun', False, 14),\n",
       " ('mnth_Mar', True, 1),\n",
       " ('mnth_May', False, 5),\n",
       " ('mnth_Nov', True, 1),\n",
       " ('mnth_Oct', True, 1),\n",
       " ('mnth_Sep', False, 2),\n",
       " ('weekday_Mon', False, 3),\n",
       " ('weekday_Sat', False, 16),\n",
       " ('weekday_Sun', False, 17),\n",
       " ('weekday_Thu', False, 11),\n",
       " ('weekday_Tue', False, 9),\n",
       " ('weekday_Wed', False, 6),\n",
       " ('weathersit_Light_Snow/Rain', True, 1),\n",
       " ('weathersit_Misty', True, 1),\n",
       " ('week_of_month_2nd_Week', False, 10),\n",
       " ('week_of_month_3rd_Week', False, 7),\n",
       " ('week_of_month_4th_Week', False, 13)]"
      ]
     },
     "execution_count": 55,
     "metadata": {},
     "output_type": "execute_result"
    }
   ],
   "source": [
    "list(zip(X_train.columns,rfe.support_,rfe.ranking_))#list with independent variables, whether they are significant or not, and they significance ranking\n",
    "#our derived metric, week of the month seems to have no impact on the demand as it didnt come in the top 15 features of RFE"
   ]
  },
  {
   "cell_type": "code",
   "execution_count": 56,
   "metadata": {},
   "outputs": [
    {
     "data": {
      "text/plain": [
       "Index(['yr', 'holiday', 'atemp', 'hum', 'windspeed', 'season_winter',\n",
       "       'mnth_Dec', 'mnth_Feb', 'mnth_Jan', 'mnth_Jul', 'mnth_Mar', 'mnth_Nov',\n",
       "       'mnth_Oct', 'weathersit_Light_Snow/Rain', 'weathersit_Misty'],\n",
       "      dtype='object')"
      ]
     },
     "execution_count": 56,
     "metadata": {},
     "output_type": "execute_result"
    }
   ],
   "source": [
    "col = X_train.columns[rfe.support_]#list of columns that are significant as per our RFE output\n",
    "col"
   ]
  },
  {
   "cell_type": "code",
   "execution_count": 57,
   "metadata": {},
   "outputs": [
    {
     "data": {
      "text/plain": [
       "Index(['workingday', 'season_spring', 'season_summer', 'mnth_Aug', 'mnth_Jun',\n",
       "       'mnth_May', 'mnth_Sep', 'weekday_Mon', 'weekday_Sat', 'weekday_Sun',\n",
       "       'weekday_Thu', 'weekday_Tue', 'weekday_Wed', 'week_of_month_2nd_Week',\n",
       "       'week_of_month_3rd_Week', 'week_of_month_4th_Week'],\n",
       "      dtype='object')"
      ]
     },
     "execution_count": 57,
     "metadata": {},
     "output_type": "execute_result"
    }
   ],
   "source": [
    "X_train.columns[~rfe.support_]#list of columns that are significant as per our RFE output"
   ]
  },
  {
   "cell_type": "code",
   "execution_count": 58,
   "metadata": {},
   "outputs": [],
   "source": [
    "X_train_rfe = X_train[col]#subset with only with only significant variables\n",
    "X_train_rfe = sm.add_constant(X_train_rfe)#adding constant\n",
    "lr2 = sm.OLS(y_train,X_train_rfe).fit()#lr2 is model with reduced features"
   ]
  },
  {
   "cell_type": "code",
   "execution_count": 59,
   "metadata": {},
   "outputs": [
    {
     "name": "stdout",
     "output_type": "stream",
     "text": [
      "                            OLS Regression Results                            \n",
      "==============================================================================\n",
      "Dep. Variable:                    cnt   R-squared:                       0.840\n",
      "Model:                            OLS   Adj. R-squared:                  0.835\n",
      "Method:                 Least Squares   F-statistic:                     173.3\n",
      "Date:                Sun, 06 Jun 2021   Prob (F-statistic):          1.06e-185\n",
      "Time:                        11:32:10   Log-Likelihood:                 494.40\n",
      "No. Observations:                 510   AIC:                            -956.8\n",
      "Df Residuals:                     494   BIC:                            -889.1\n",
      "Df Model:                          15                                         \n",
      "Covariance Type:            nonrobust                                         \n",
      "==============================================================================================\n",
      "                                 coef    std err          t      P>|t|      [0.025      0.975]\n",
      "----------------------------------------------------------------------------------------------\n",
      "const                          0.3765      0.033     11.511      0.000       0.312       0.441\n",
      "yr                             0.2442      0.008     29.180      0.000       0.228       0.261\n",
      "holiday                       -0.1052      0.028     -3.799      0.000      -0.160      -0.051\n",
      "atemp                          0.4274      0.037     11.449      0.000       0.354       0.501\n",
      "hum                           -0.1439      0.034     -4.245      0.000      -0.210      -0.077\n",
      "windspeed                     -0.1651      0.028     -5.838      0.000      -0.221      -0.110\n",
      "season_winter                  0.1509      0.020      7.483      0.000       0.111       0.190\n",
      "mnth_Dec                      -0.1598      0.023     -7.068      0.000      -0.204      -0.115\n",
      "mnth_Feb                      -0.1594      0.021     -7.575      0.000      -0.201      -0.118\n",
      "mnth_Jan                      -0.1806      0.022     -8.132      0.000      -0.224      -0.137\n",
      "mnth_Jul                      -0.0613      0.017     -3.601      0.000      -0.095      -0.028\n",
      "mnth_Mar                      -0.0725      0.018     -3.945      0.000      -0.109      -0.036\n",
      "mnth_Nov                      -0.1610      0.027     -5.878      0.000      -0.215      -0.107\n",
      "mnth_Oct                      -0.0904      0.025     -3.553      0.000      -0.140      -0.040\n",
      "weathersit_Light_Snow/Rain    -0.1998      0.030     -6.608      0.000      -0.259      -0.140\n",
      "weathersit_Misty              -0.0482      0.011     -4.288      0.000      -0.070      -0.026\n",
      "==============================================================================\n",
      "Omnibus:                       86.418   Durbin-Watson:                   1.906\n",
      "Prob(Omnibus):                  0.000   Jarque-Bera (JB):              248.273\n",
      "Skew:                          -0.812   Prob(JB):                     1.23e-54\n",
      "Kurtosis:                       6.008   Cond. No.                         20.5\n",
      "==============================================================================\n",
      "\n",
      "Warnings:\n",
      "[1] Standard Errors assume that the covariance matrix of the errors is correctly specified.\n"
     ]
    }
   ],
   "source": [
    "print(lr2.summary())#summary for model built with 15 significant variables\n",
    "#probability of F-Statistic is very low\n",
    "#P-Values of all 15 variables are very low, making them all significant"
   ]
  },
  {
   "cell_type": "code",
   "execution_count": 60,
   "metadata": {},
   "outputs": [
    {
     "data": {
      "text/html": [
       "<div>\n",
       "<style scoped>\n",
       "    .dataframe tbody tr th:only-of-type {\n",
       "        vertical-align: middle;\n",
       "    }\n",
       "\n",
       "    .dataframe tbody tr th {\n",
       "        vertical-align: top;\n",
       "    }\n",
       "\n",
       "    .dataframe thead th {\n",
       "        text-align: right;\n",
       "    }\n",
       "</style>\n",
       "<table border=\"1\" class=\"dataframe\">\n",
       "  <thead>\n",
       "    <tr style=\"text-align: right;\">\n",
       "      <th></th>\n",
       "      <th>Features</th>\n",
       "      <th>VIF</th>\n",
       "    </tr>\n",
       "  </thead>\n",
       "  <tbody>\n",
       "    <tr>\n",
       "      <th>3</th>\n",
       "      <td>hum</td>\n",
       "      <td>17.92</td>\n",
       "    </tr>\n",
       "    <tr>\n",
       "      <th>2</th>\n",
       "      <td>atemp</td>\n",
       "      <td>14.48</td>\n",
       "    </tr>\n",
       "    <tr>\n",
       "      <th>5</th>\n",
       "      <td>season_winter</td>\n",
       "      <td>5.51</td>\n",
       "    </tr>\n",
       "    <tr>\n",
       "      <th>4</th>\n",
       "      <td>windspeed</td>\n",
       "      <td>4.86</td>\n",
       "    </tr>\n",
       "    <tr>\n",
       "      <th>12</th>\n",
       "      <td>mnth_Oct</td>\n",
       "      <td>3.04</td>\n",
       "    </tr>\n",
       "    <tr>\n",
       "      <th>11</th>\n",
       "      <td>mnth_Nov</td>\n",
       "      <td>2.92</td>\n",
       "    </tr>\n",
       "    <tr>\n",
       "      <th>14</th>\n",
       "      <td>weathersit_Misty</td>\n",
       "      <td>2.42</td>\n",
       "    </tr>\n",
       "    <tr>\n",
       "      <th>6</th>\n",
       "      <td>mnth_Dec</td>\n",
       "      <td>2.20</td>\n",
       "    </tr>\n",
       "    <tr>\n",
       "      <th>0</th>\n",
       "      <td>yr</td>\n",
       "      <td>2.05</td>\n",
       "    </tr>\n",
       "    <tr>\n",
       "      <th>8</th>\n",
       "      <td>mnth_Jan</td>\n",
       "      <td>1.74</td>\n",
       "    </tr>\n",
       "    <tr>\n",
       "      <th>13</th>\n",
       "      <td>weathersit_Light_Snow/Rain</td>\n",
       "      <td>1.41</td>\n",
       "    </tr>\n",
       "    <tr>\n",
       "      <th>7</th>\n",
       "      <td>mnth_Feb</td>\n",
       "      <td>1.40</td>\n",
       "    </tr>\n",
       "    <tr>\n",
       "      <th>9</th>\n",
       "      <td>mnth_Jul</td>\n",
       "      <td>1.38</td>\n",
       "    </tr>\n",
       "    <tr>\n",
       "      <th>10</th>\n",
       "      <td>mnth_Mar</td>\n",
       "      <td>1.32</td>\n",
       "    </tr>\n",
       "    <tr>\n",
       "      <th>1</th>\n",
       "      <td>holiday</td>\n",
       "      <td>1.06</td>\n",
       "    </tr>\n",
       "  </tbody>\n",
       "</table>\n",
       "</div>"
      ],
      "text/plain": [
       "                      Features    VIF\n",
       "3                          hum  17.92\n",
       "2                        atemp  14.48\n",
       "5                season_winter   5.51\n",
       "4                    windspeed   4.86\n",
       "12                    mnth_Oct   3.04\n",
       "11                    mnth_Nov   2.92\n",
       "14            weathersit_Misty   2.42\n",
       "6                     mnth_Dec   2.20\n",
       "0                           yr   2.05\n",
       "8                     mnth_Jan   1.74\n",
       "13  weathersit_Light_Snow/Rain   1.41\n",
       "7                     mnth_Feb   1.40\n",
       "9                     mnth_Jul   1.38\n",
       "10                    mnth_Mar   1.32\n",
       "1                      holiday   1.06"
      ]
     },
     "execution_count": 60,
     "metadata": {},
     "output_type": "execute_result"
    }
   ],
   "source": [
    "# Calculate the VIFs for the new model\n",
    "from statsmodels.stats.outliers_influence import variance_inflation_factor\n",
    "\n",
    "vif = pd.DataFrame()\n",
    "X = X_train_rfe.drop(['const'], axis=1)\n",
    "vif['Features'] = X.columns\n",
    "vif['VIF'] = [variance_inflation_factor(X.values, i) for i in range(X.shape[1])]\n",
    "vif['VIF'] = round(vif['VIF'], 2)\n",
    "vif = vif.sort_values(by = \"VIF\", ascending = False)\n",
    "vif#seems like hum has the highest collinearity with other variables"
   ]
  },
  {
   "cell_type": "code",
   "execution_count": 61,
   "metadata": {},
   "outputs": [],
   "source": [
    "X_train_new1 = X_train_rfe.drop(['hum'], axis=1)#dropped humidity variable and rebuilding model"
   ]
  },
  {
   "cell_type": "code",
   "execution_count": 62,
   "metadata": {},
   "outputs": [],
   "source": [
    "lr3 = sm.OLS(y_train,X_train_new1).fit()#fitting model again, lr3 is the new model"
   ]
  },
  {
   "cell_type": "code",
   "execution_count": 63,
   "metadata": {},
   "outputs": [
    {
     "name": "stdout",
     "output_type": "stream",
     "text": [
      "                            OLS Regression Results                            \n",
      "==============================================================================\n",
      "Dep. Variable:                    cnt   R-squared:                       0.835\n",
      "Model:                            OLS   Adj. R-squared:                  0.830\n",
      "Method:                 Least Squares   F-statistic:                     178.3\n",
      "Date:                Sun, 06 Jun 2021   Prob (F-statistic):          5.21e-183\n",
      "Time:                        11:32:10   Log-Likelihood:                 485.27\n",
      "No. Observations:                 510   AIC:                            -940.5\n",
      "Df Residuals:                     495   BIC:                            -877.0\n",
      "Df Model:                          14                                         \n",
      "Covariance Type:            nonrobust                                         \n",
      "==============================================================================================\n",
      "                                 coef    std err          t      P>|t|      [0.025      0.975]\n",
      "----------------------------------------------------------------------------------------------\n",
      "const                          0.3096      0.029     10.621      0.000       0.252       0.367\n",
      "yr                             0.2488      0.008     29.496      0.000       0.232       0.265\n",
      "holiday                       -0.1037      0.028     -3.683      0.000      -0.159      -0.048\n",
      "atemp                          0.3954      0.037     10.633      0.000       0.322       0.468\n",
      "windspeed                     -0.1246      0.027     -4.603      0.000      -0.178      -0.071\n",
      "season_winter                  0.1476      0.020      7.203      0.000       0.107       0.188\n",
      "mnth_Dec                      -0.1678      0.023     -7.327      0.000      -0.213      -0.123\n",
      "mnth_Feb                      -0.1584      0.021     -7.402      0.000      -0.200      -0.116\n",
      "mnth_Jan                      -0.1875      0.023     -8.325      0.000      -0.232      -0.143\n",
      "mnth_Jul                      -0.0521      0.017     -3.037      0.003      -0.086      -0.018\n",
      "mnth_Mar                      -0.0744      0.019     -3.982      0.000      -0.111      -0.038\n",
      "mnth_Nov                      -0.1654      0.028     -5.941      0.000      -0.220      -0.111\n",
      "mnth_Oct                      -0.0948      0.026     -3.669      0.000      -0.146      -0.044\n",
      "weathersit_Light_Snow/Rain    -0.2640      0.027     -9.915      0.000      -0.316      -0.212\n",
      "weathersit_Misty              -0.0767      0.009     -8.381      0.000      -0.095      -0.059\n",
      "==============================================================================\n",
      "Omnibus:                       86.712   Durbin-Watson:                   1.904\n",
      "Prob(Omnibus):                  0.000   Jarque-Bera (JB):              248.673\n",
      "Skew:                          -0.815   Prob(JB):                     1.00e-54\n",
      "Kurtosis:                       6.008   Cond. No.                         19.0\n",
      "==============================================================================\n",
      "\n",
      "Warnings:\n",
      "[1] Standard Errors assume that the covariance matrix of the errors is correctly specified.\n"
     ]
    }
   ],
   "source": [
    "print(lr3.summary())#New R-squared is 83.5%, all other metrics look good"
   ]
  },
  {
   "cell_type": "code",
   "execution_count": 64,
   "metadata": {},
   "outputs": [
    {
     "data": {
      "text/html": [
       "<div>\n",
       "<style scoped>\n",
       "    .dataframe tbody tr th:only-of-type {\n",
       "        vertical-align: middle;\n",
       "    }\n",
       "\n",
       "    .dataframe tbody tr th {\n",
       "        vertical-align: top;\n",
       "    }\n",
       "\n",
       "    .dataframe thead th {\n",
       "        text-align: right;\n",
       "    }\n",
       "</style>\n",
       "<table border=\"1\" class=\"dataframe\">\n",
       "  <thead>\n",
       "    <tr style=\"text-align: right;\">\n",
       "      <th></th>\n",
       "      <th>Features</th>\n",
       "      <th>VIF</th>\n",
       "    </tr>\n",
       "  </thead>\n",
       "  <tbody>\n",
       "    <tr>\n",
       "      <th>4</th>\n",
       "      <td>season_winter</td>\n",
       "      <td>5.49</td>\n",
       "    </tr>\n",
       "    <tr>\n",
       "      <th>3</th>\n",
       "      <td>windspeed</td>\n",
       "      <td>4.81</td>\n",
       "    </tr>\n",
       "    <tr>\n",
       "      <th>2</th>\n",
       "      <td>atemp</td>\n",
       "      <td>4.69</td>\n",
       "    </tr>\n",
       "    <tr>\n",
       "      <th>11</th>\n",
       "      <td>mnth_Oct</td>\n",
       "      <td>2.98</td>\n",
       "    </tr>\n",
       "    <tr>\n",
       "      <th>10</th>\n",
       "      <td>mnth_Nov</td>\n",
       "      <td>2.79</td>\n",
       "    </tr>\n",
       "    <tr>\n",
       "      <th>0</th>\n",
       "      <td>yr</td>\n",
       "      <td>2.04</td>\n",
       "    </tr>\n",
       "    <tr>\n",
       "      <th>5</th>\n",
       "      <td>mnth_Dec</td>\n",
       "      <td>1.95</td>\n",
       "    </tr>\n",
       "    <tr>\n",
       "      <th>13</th>\n",
       "      <td>weathersit_Misty</td>\n",
       "      <td>1.55</td>\n",
       "    </tr>\n",
       "    <tr>\n",
       "      <th>8</th>\n",
       "      <td>mnth_Jul</td>\n",
       "      <td>1.32</td>\n",
       "    </tr>\n",
       "    <tr>\n",
       "      <th>7</th>\n",
       "      <td>mnth_Jan</td>\n",
       "      <td>1.31</td>\n",
       "    </tr>\n",
       "    <tr>\n",
       "      <th>6</th>\n",
       "      <td>mnth_Feb</td>\n",
       "      <td>1.24</td>\n",
       "    </tr>\n",
       "    <tr>\n",
       "      <th>9</th>\n",
       "      <td>mnth_Mar</td>\n",
       "      <td>1.21</td>\n",
       "    </tr>\n",
       "    <tr>\n",
       "      <th>12</th>\n",
       "      <td>weathersit_Light_Snow/Rain</td>\n",
       "      <td>1.10</td>\n",
       "    </tr>\n",
       "    <tr>\n",
       "      <th>1</th>\n",
       "      <td>holiday</td>\n",
       "      <td>1.06</td>\n",
       "    </tr>\n",
       "  </tbody>\n",
       "</table>\n",
       "</div>"
      ],
      "text/plain": [
       "                      Features   VIF\n",
       "4                season_winter  5.49\n",
       "3                    windspeed  4.81\n",
       "2                        atemp  4.69\n",
       "11                    mnth_Oct  2.98\n",
       "10                    mnth_Nov  2.79\n",
       "0                           yr  2.04\n",
       "5                     mnth_Dec  1.95\n",
       "13            weathersit_Misty  1.55\n",
       "8                     mnth_Jul  1.32\n",
       "7                     mnth_Jan  1.31\n",
       "6                     mnth_Feb  1.24\n",
       "9                     mnth_Mar  1.21\n",
       "12  weathersit_Light_Snow/Rain  1.10\n",
       "1                      holiday  1.06"
      ]
     },
     "execution_count": 64,
     "metadata": {},
     "output_type": "execute_result"
    }
   ],
   "source": [
    "#checking VIF again\n",
    "vif = pd.DataFrame()\n",
    "X = X_train_new1.drop(['const'], axis=1)\n",
    "vif['Features'] = X.columns\n",
    "vif['VIF'] = [variance_inflation_factor(X.values, i) for i in range(X.shape[1])]\n",
    "vif['VIF'] = round(vif['VIF'], 2)\n",
    "vif = vif.sort_values(by = \"VIF\", ascending = False)\n",
    "vif#season_winter has VIF of 5.49,slightly above 5, we will drop it and see if model if performing good"
   ]
  },
  {
   "cell_type": "code",
   "execution_count": 65,
   "metadata": {
    "scrolled": true
   },
   "outputs": [
    {
     "name": "stdout",
     "output_type": "stream",
     "text": [
      "                            OLS Regression Results                            \n",
      "==============================================================================\n",
      "Dep. Variable:                    cnt   R-squared:                       0.817\n",
      "Model:                            OLS   Adj. R-squared:                  0.812\n",
      "Method:                 Least Squares   F-statistic:                     170.5\n",
      "Date:                Sun, 06 Jun 2021   Prob (F-statistic):          1.79e-173\n",
      "Time:                        11:32:10   Log-Likelihood:                 459.85\n",
      "No. Observations:                 510   AIC:                            -891.7\n",
      "Df Residuals:                     496   BIC:                            -832.4\n",
      "Df Model:                          13                                         \n",
      "Covariance Type:            nonrobust                                         \n",
      "==============================================================================================\n",
      "                                 coef    std err          t      P>|t|      [0.025      0.975]\n",
      "----------------------------------------------------------------------------------------------\n",
      "const                          0.3199      0.031     10.463      0.000       0.260       0.380\n",
      "yr                             0.2503      0.009     28.268      0.000       0.233       0.268\n",
      "holiday                       -0.1204      0.029     -4.084      0.000      -0.178      -0.062\n",
      "atemp                          0.3988      0.039     10.215      0.000       0.322       0.475\n",
      "windspeed                     -0.1404      0.028     -4.955      0.000      -0.196      -0.085\n",
      "mnth_Dec                      -0.0840      0.021     -4.056      0.000      -0.125      -0.043\n",
      "mnth_Feb                      -0.1640      0.022     -7.303      0.000      -0.208      -0.120\n",
      "mnth_Jan                      -0.1929      0.024     -8.159      0.000      -0.239      -0.146\n",
      "mnth_Jul                      -0.0614      0.018     -3.418      0.001      -0.097      -0.026\n",
      "mnth_Mar                      -0.0807      0.020     -4.118      0.000      -0.119      -0.042\n",
      "mnth_Nov                      -0.0242      0.021     -1.165      0.244      -0.065       0.017\n",
      "mnth_Oct                       0.0448      0.018      2.499      0.013       0.010       0.080\n",
      "weathersit_Light_Snow/Rain    -0.2609      0.028     -9.334      0.000      -0.316      -0.206\n",
      "weathersit_Misty              -0.0757      0.010     -7.875      0.000      -0.095      -0.057\n",
      "==============================================================================\n",
      "Omnibus:                       70.071   Durbin-Watson:                   1.880\n",
      "Prob(Omnibus):                  0.000   Jarque-Bera (JB):              162.256\n",
      "Skew:                          -0.729   Prob(JB):                     5.84e-36\n",
      "Kurtosis:                       5.347   Cond. No.                         18.4\n",
      "==============================================================================\n",
      "\n",
      "Warnings:\n",
      "[1] Standard Errors assume that the covariance matrix of the errors is correctly specified.\n"
     ]
    }
   ],
   "source": [
    "X_train_new2 = X_train_new1.drop(['season_winter'], axis=1)#dropped season_winter variable and rebuilding model\n",
    "lr4 = sm.OLS(y_train,X_train_new2).fit()#fitting model again, lr4 is the new model\n",
    "print(lr4.summary())#New R-squared is 81%, all other metrics look good\n",
    "#but mnth_Nov has very high p-value, lets drop it in next step"
   ]
  },
  {
   "cell_type": "code",
   "execution_count": 66,
   "metadata": {
    "scrolled": true
   },
   "outputs": [
    {
     "data": {
      "text/html": [
       "<div>\n",
       "<style scoped>\n",
       "    .dataframe tbody tr th:only-of-type {\n",
       "        vertical-align: middle;\n",
       "    }\n",
       "\n",
       "    .dataframe tbody tr th {\n",
       "        vertical-align: top;\n",
       "    }\n",
       "\n",
       "    .dataframe thead th {\n",
       "        text-align: right;\n",
       "    }\n",
       "</style>\n",
       "<table border=\"1\" class=\"dataframe\">\n",
       "  <thead>\n",
       "    <tr style=\"text-align: right;\">\n",
       "      <th></th>\n",
       "      <th>Features</th>\n",
       "      <th>VIF</th>\n",
       "    </tr>\n",
       "  </thead>\n",
       "  <tbody>\n",
       "    <tr>\n",
       "      <th>3</th>\n",
       "      <td>windspeed</td>\n",
       "      <td>4.79</td>\n",
       "    </tr>\n",
       "    <tr>\n",
       "      <th>2</th>\n",
       "      <td>atemp</td>\n",
       "      <td>4.60</td>\n",
       "    </tr>\n",
       "    <tr>\n",
       "      <th>0</th>\n",
       "      <td>yr</td>\n",
       "      <td>2.04</td>\n",
       "    </tr>\n",
       "    <tr>\n",
       "      <th>12</th>\n",
       "      <td>weathersit_Misty</td>\n",
       "      <td>1.54</td>\n",
       "    </tr>\n",
       "    <tr>\n",
       "      <th>6</th>\n",
       "      <td>mnth_Jan</td>\n",
       "      <td>1.31</td>\n",
       "    </tr>\n",
       "    <tr>\n",
       "      <th>7</th>\n",
       "      <td>mnth_Jul</td>\n",
       "      <td>1.31</td>\n",
       "    </tr>\n",
       "    <tr>\n",
       "      <th>5</th>\n",
       "      <td>mnth_Feb</td>\n",
       "      <td>1.24</td>\n",
       "    </tr>\n",
       "    <tr>\n",
       "      <th>4</th>\n",
       "      <td>mnth_Dec</td>\n",
       "      <td>1.23</td>\n",
       "    </tr>\n",
       "    <tr>\n",
       "      <th>8</th>\n",
       "      <td>mnth_Mar</td>\n",
       "      <td>1.21</td>\n",
       "    </tr>\n",
       "    <tr>\n",
       "      <th>10</th>\n",
       "      <td>mnth_Oct</td>\n",
       "      <td>1.17</td>\n",
       "    </tr>\n",
       "    <tr>\n",
       "      <th>9</th>\n",
       "      <td>mnth_Nov</td>\n",
       "      <td>1.13</td>\n",
       "    </tr>\n",
       "    <tr>\n",
       "      <th>11</th>\n",
       "      <td>weathersit_Light_Snow/Rain</td>\n",
       "      <td>1.10</td>\n",
       "    </tr>\n",
       "    <tr>\n",
       "      <th>1</th>\n",
       "      <td>holiday</td>\n",
       "      <td>1.05</td>\n",
       "    </tr>\n",
       "  </tbody>\n",
       "</table>\n",
       "</div>"
      ],
      "text/plain": [
       "                      Features   VIF\n",
       "3                    windspeed  4.79\n",
       "2                        atemp  4.60\n",
       "0                           yr  2.04\n",
       "12            weathersit_Misty  1.54\n",
       "6                     mnth_Jan  1.31\n",
       "7                     mnth_Jul  1.31\n",
       "5                     mnth_Feb  1.24\n",
       "4                     mnth_Dec  1.23\n",
       "8                     mnth_Mar  1.21\n",
       "10                    mnth_Oct  1.17\n",
       "9                     mnth_Nov  1.13\n",
       "11  weathersit_Light_Snow/Rain  1.10\n",
       "1                      holiday  1.05"
      ]
     },
     "execution_count": 66,
     "metadata": {},
     "output_type": "execute_result"
    }
   ],
   "source": [
    "#checking VIF again\n",
    "vif = pd.DataFrame()\n",
    "X = X_train_new2.drop(['const'], axis=1)\n",
    "vif['Features'] = X.columns\n",
    "vif['VIF'] = [variance_inflation_factor(X.values, i) for i in range(X.shape[1])]\n",
    "vif['VIF'] = round(vif['VIF'], 2)\n",
    "vif = vif.sort_values(by = \"VIF\", ascending = False)\n",
    "vif"
   ]
  },
  {
   "cell_type": "code",
   "execution_count": 67,
   "metadata": {},
   "outputs": [
    {
     "name": "stdout",
     "output_type": "stream",
     "text": [
      "                            OLS Regression Results                            \n",
      "==============================================================================\n",
      "Dep. Variable:                    cnt   R-squared:                       0.817\n",
      "Model:                            OLS   Adj. R-squared:                  0.812\n",
      "Method:                 Least Squares   F-statistic:                     184.5\n",
      "Date:                Sun, 06 Jun 2021   Prob (F-statistic):          2.53e-174\n",
      "Time:                        11:32:10   Log-Likelihood:                 459.15\n",
      "No. Observations:                 510   AIC:                            -892.3\n",
      "Df Residuals:                     497   BIC:                            -837.3\n",
      "Df Model:                          12                                         \n",
      "Covariance Type:            nonrobust                                         \n",
      "==============================================================================================\n",
      "                                 coef    std err          t      P>|t|      [0.025      0.975]\n",
      "----------------------------------------------------------------------------------------------\n",
      "const                          0.3004      0.026     11.731      0.000       0.250       0.351\n",
      "yr                             0.2500      0.009     28.234      0.000       0.233       0.267\n",
      "holiday                       -0.1230      0.029     -4.184      0.000      -0.181      -0.065\n",
      "atemp                          0.4220      0.034     12.575      0.000       0.356       0.488\n",
      "windspeed                     -0.1361      0.028     -4.842      0.000      -0.191      -0.081\n",
      "mnth_Dec                      -0.0741      0.019     -3.923      0.000      -0.111      -0.037\n",
      "mnth_Feb                      -0.1531      0.020     -7.503      0.000      -0.193      -0.113\n",
      "mnth_Jan                      -0.1800      0.021     -8.602      0.000      -0.221      -0.139\n",
      "mnth_Jul                      -0.0625      0.018     -3.481      0.001      -0.098      -0.027\n",
      "mnth_Mar                      -0.0726      0.018     -3.962      0.000      -0.109      -0.037\n",
      "mnth_Oct                       0.0509      0.017      2.961      0.003       0.017       0.085\n",
      "weathersit_Light_Snow/Rain    -0.2608      0.028     -9.328      0.000      -0.316      -0.206\n",
      "weathersit_Misty              -0.0751      0.010     -7.819      0.000      -0.094      -0.056\n",
      "==============================================================================\n",
      "Omnibus:                       68.414   Durbin-Watson:                   1.878\n",
      "Prob(Omnibus):                  0.000   Jarque-Bera (JB):              157.991\n",
      "Skew:                          -0.714   Prob(JB):                     4.93e-35\n",
      "Kurtosis:                       5.323   Cond. No.                         15.0\n",
      "==============================================================================\n",
      "\n",
      "Warnings:\n",
      "[1] Standard Errors assume that the covariance matrix of the errors is correctly specified.\n"
     ]
    }
   ],
   "source": [
    "X_train_new3 = X_train_new2.drop(['mnth_Nov'], axis=1)#dropped mnth_Nov variable(as it's p-value is high) and rebuilding model\n",
    "lr5 = sm.OLS(y_train,X_train_new3).fit()#fitting model again, lr5 is the new model\n",
    "print(lr5.summary())#New R-squared is 81%, all other metrics look good"
   ]
  },
  {
   "cell_type": "code",
   "execution_count": 68,
   "metadata": {
    "scrolled": true
   },
   "outputs": [
    {
     "data": {
      "text/html": [
       "<div>\n",
       "<style scoped>\n",
       "    .dataframe tbody tr th:only-of-type {\n",
       "        vertical-align: middle;\n",
       "    }\n",
       "\n",
       "    .dataframe tbody tr th {\n",
       "        vertical-align: top;\n",
       "    }\n",
       "\n",
       "    .dataframe thead th {\n",
       "        text-align: right;\n",
       "    }\n",
       "</style>\n",
       "<table border=\"1\" class=\"dataframe\">\n",
       "  <thead>\n",
       "    <tr style=\"text-align: right;\">\n",
       "      <th></th>\n",
       "      <th>Features</th>\n",
       "      <th>VIF</th>\n",
       "    </tr>\n",
       "  </thead>\n",
       "  <tbody>\n",
       "    <tr>\n",
       "      <th>3</th>\n",
       "      <td>windspeed</td>\n",
       "      <td>4.65</td>\n",
       "    </tr>\n",
       "    <tr>\n",
       "      <th>2</th>\n",
       "      <td>atemp</td>\n",
       "      <td>4.59</td>\n",
       "    </tr>\n",
       "    <tr>\n",
       "      <th>0</th>\n",
       "      <td>yr</td>\n",
       "      <td>2.02</td>\n",
       "    </tr>\n",
       "    <tr>\n",
       "      <th>11</th>\n",
       "      <td>weathersit_Misty</td>\n",
       "      <td>1.54</td>\n",
       "    </tr>\n",
       "    <tr>\n",
       "      <th>7</th>\n",
       "      <td>mnth_Jul</td>\n",
       "      <td>1.30</td>\n",
       "    </tr>\n",
       "    <tr>\n",
       "      <th>6</th>\n",
       "      <td>mnth_Jan</td>\n",
       "      <td>1.29</td>\n",
       "    </tr>\n",
       "    <tr>\n",
       "      <th>5</th>\n",
       "      <td>mnth_Feb</td>\n",
       "      <td>1.22</td>\n",
       "    </tr>\n",
       "    <tr>\n",
       "      <th>4</th>\n",
       "      <td>mnth_Dec</td>\n",
       "      <td>1.21</td>\n",
       "    </tr>\n",
       "    <tr>\n",
       "      <th>8</th>\n",
       "      <td>mnth_Mar</td>\n",
       "      <td>1.19</td>\n",
       "    </tr>\n",
       "    <tr>\n",
       "      <th>9</th>\n",
       "      <td>mnth_Oct</td>\n",
       "      <td>1.16</td>\n",
       "    </tr>\n",
       "    <tr>\n",
       "      <th>10</th>\n",
       "      <td>weathersit_Light_Snow/Rain</td>\n",
       "      <td>1.10</td>\n",
       "    </tr>\n",
       "    <tr>\n",
       "      <th>1</th>\n",
       "      <td>holiday</td>\n",
       "      <td>1.04</td>\n",
       "    </tr>\n",
       "  </tbody>\n",
       "</table>\n",
       "</div>"
      ],
      "text/plain": [
       "                      Features   VIF\n",
       "3                    windspeed  4.65\n",
       "2                        atemp  4.59\n",
       "0                           yr  2.02\n",
       "11            weathersit_Misty  1.54\n",
       "7                     mnth_Jul  1.30\n",
       "6                     mnth_Jan  1.29\n",
       "5                     mnth_Feb  1.22\n",
       "4                     mnth_Dec  1.21\n",
       "8                     mnth_Mar  1.19\n",
       "9                     mnth_Oct  1.16\n",
       "10  weathersit_Light_Snow/Rain  1.10\n",
       "1                      holiday  1.04"
      ]
     },
     "execution_count": 68,
     "metadata": {},
     "output_type": "execute_result"
    }
   ],
   "source": [
    "#checking VIF again\n",
    "vif = pd.DataFrame()\n",
    "X = X_train_new3.drop(['const'], axis=1)\n",
    "vif['Features'] = X.columns\n",
    "vif['VIF'] = [variance_inflation_factor(X.values, i) for i in range(X.shape[1])]\n",
    "vif['VIF'] = round(vif['VIF'], 2)\n",
    "vif = vif.sort_values(by = \"VIF\", ascending = False)\n",
    "vif"
   ]
  },
  {
   "cell_type": "markdown",
   "metadata": {},
   "source": [
    "Now, let's check the model fit and other metrics for <ins>both lr3 and lr4(season_winter dropped)</ins> to arrive at a conclusion"
   ]
  },
  {
   "cell_type": "markdown",
   "metadata": {},
   "source": [
    "<b>Residual analysis</b> on the training data with <b>lr3</b><br>\n",
    "Let's see if the residual errors follow gaussian distribution"
   ]
  },
  {
   "cell_type": "code",
   "execution_count": 69,
   "metadata": {},
   "outputs": [],
   "source": [
    "y_train_pred = lr3.predict(X_train_new1)#predicting y values from training data"
   ]
  },
  {
   "cell_type": "code",
   "execution_count": 70,
   "metadata": {},
   "outputs": [
    {
     "name": "stderr",
     "output_type": "stream",
     "text": [
      "C:\\Users\\Venki\\Anaconda3\\lib\\site-packages\\scipy\\stats\\stats.py:1713: FutureWarning: Using a non-tuple sequence for multidimensional indexing is deprecated; use `arr[tuple(seq)]` instead of `arr[seq]`. In the future this will be interpreted as an array index, `arr[np.array(seq)]`, which will result either in an error or a different result.\n",
      "  return np.add.reduce(sorted[indexer] * weights, axis=axis) / sumval\n"
     ]
    },
    {
     "data": {
      "image/png": "[encoded data removed]",
      "text/plain": [
       "<Figure size 432x288 with 1 Axes>"
      ]
     },
     "metadata": {},
     "output_type": "display_data"
    },
    {
     "data": {
      "text/plain": [
       "-2.874606870622587e-16"
      ]
     },
     "execution_count": 70,
     "metadata": {},
     "output_type": "execute_result"
    }
   ],
   "source": [
    "# Plot the histogram of the error terms\n",
    "fig = plt.figure()\n",
    "sns.distplot((y_train - y_train_pred), bins = 30)\n",
    "fig.suptitle('Error Distribution for lr3', fontsize = 20)                  # Plot heading \n",
    "plt.xlabel('Error values', fontsize = 18)\n",
    "plt.show()\n",
    "#From the figure, we can say that errors are distributed around 0.0\n",
    "np.mean(y_train - y_train_pred)#residual average is extremely small, almost zero\n",
    "#the error distribution is in bell shape, this is gaussian"
   ]
  },
  {
   "cell_type": "code",
   "execution_count": 71,
   "metadata": {
    "scrolled": true
   },
   "outputs": [
    {
     "data": {
      "image/png": "[encoded data removed]",
      "text/plain": [
       "<Figure size 432x288 with 1 Axes>"
      ]
     },
     "metadata": {},
     "output_type": "display_data"
    }
   ],
   "source": [
    "plt.scatter(pd.DataFrame(X_train_new1.index),(y_train - y_train_pred))#plotting the residuals w.r.t each x_train, it shouldnt follow any pattern\n",
    "plt.show()\n",
    "#there the residuals seem homoscedastic which seems to be a good sign of the model"
   ]
  },
  {
   "cell_type": "markdown",
   "metadata": {},
   "source": [
    "<b>Residual analysis</b> on the training data with <b>lr4</b><br>\n",
    "Let's see if the residual errors follow gaussian distribution"
   ]
  },
  {
   "cell_type": "code",
   "execution_count": 72,
   "metadata": {},
   "outputs": [],
   "source": [
    "y_train_pred = lr4.predict(X_train_new2)"
   ]
  },
  {
   "cell_type": "code",
   "execution_count": 73,
   "metadata": {},
   "outputs": [
    {
     "name": "stderr",
     "output_type": "stream",
     "text": [
      "C:\\Users\\Venki\\Anaconda3\\lib\\site-packages\\scipy\\stats\\stats.py:1713: FutureWarning: Using a non-tuple sequence for multidimensional indexing is deprecated; use `arr[tuple(seq)]` instead of `arr[seq]`. In the future this will be interpreted as an array index, `arr[np.array(seq)]`, which will result either in an error or a different result.\n",
      "  return np.add.reduce(sorted[indexer] * weights, axis=axis) / sumval\n"
     ]
    },
    {
     "data": {
      "image/png": "[encoded data removed]",
      "text/plain": [
       "<Figure size 432x288 with 1 Axes>"
      ]
     },
     "metadata": {},
     "output_type": "display_data"
    },
    {
     "data": {
      "text/plain": [
       "-2.695011969580282e-15"
      ]
     },
     "execution_count": 73,
     "metadata": {},
     "output_type": "execute_result"
    }
   ],
   "source": [
    "# Plot the histogram of the error terms\n",
    "fig = plt.figure()\n",
    "sns.distplot((y_train - y_train_pred), bins = 30)\n",
    "fig.suptitle('Error Distribution for lr4', fontsize = 20)\n",
    "plt.xlabel('Error values', fontsize = 18)\n",
    "plt.show()\n",
    "#From the figure, we can say that errors are distributed around 0.0\n",
    "np.mean(y_train - y_train_pred)#residual average is extremely small, almost zero\n",
    "#the error distribution is in bell shape, this is gaussian"
   ]
  },
  {
   "cell_type": "code",
   "execution_count": 74,
   "metadata": {},
   "outputs": [
    {
     "data": {
      "image/png": "[encoded data removed]",
      "text/plain": [
       "<Figure size 432x288 with 1 Axes>"
      ]
     },
     "metadata": {},
     "output_type": "display_data"
    }
   ],
   "source": [
    "plt.scatter(pd.DataFrame(X_train_new2.index),(y_train - y_train_pred))\n",
    "plt.show()\n",
    "#there the residuals seem homoscedastic which seems to be a good sign of the model"
   ]
  },
  {
   "cell_type": "markdown",
   "metadata": {},
   "source": [
    "<b>Residual analysis</b> on the training data with <b>lr5</b><br>\n",
    "Let's see if the residual errors follow gaussian distribution"
   ]
  },
  {
   "cell_type": "code",
   "execution_count": 75,
   "metadata": {},
   "outputs": [],
   "source": [
    "y_train_pred = lr5.predict(X_train_new3)"
   ]
  },
  {
   "cell_type": "code",
   "execution_count": 76,
   "metadata": {},
   "outputs": [
    {
     "name": "stderr",
     "output_type": "stream",
     "text": [
      "C:\\Users\\Venki\\Anaconda3\\lib\\site-packages\\scipy\\stats\\stats.py:1713: FutureWarning: Using a non-tuple sequence for multidimensional indexing is deprecated; use `arr[tuple(seq)]` instead of `arr[seq]`. In the future this will be interpreted as an array index, `arr[np.array(seq)]`, which will result either in an error or a different result.\n",
      "  return np.add.reduce(sorted[indexer] * weights, axis=axis) / sumval\n"
     ]
    },
    {
     "data": {
      "image/png": "[encoded data removed]",
      "text/plain": [
       "<Figure size 432x288 with 1 Axes>"
      ]
     },
     "metadata": {},
     "output_type": "display_data"
    },
    {
     "data": {
      "text/plain": [
       "-3.708362593037165e-16"
      ]
     },
     "execution_count": 76,
     "metadata": {},
     "output_type": "execute_result"
    }
   ],
   "source": [
    "# Plot the histogram of the error terms\n",
    "fig = plt.figure()\n",
    "sns.distplot((y_train - y_train_pred), bins = 30)\n",
    "fig.suptitle('Error Distribution for lr5', fontsize = 20)        \n",
    "plt.xlabel('Error values', fontsize = 18)\n",
    "plt.show()\n",
    "#From the figure, we can say that errors are distributed around 0.0\n",
    "np.mean(y_train - y_train_pred)#residual average is extremely small, almost zero\n",
    "#the error distribution is in bell shape, this is gaussian"
   ]
  },
  {
   "cell_type": "code",
   "execution_count": 77,
   "metadata": {},
   "outputs": [
    {
     "data": {
      "image/png": "[encoded data removed]",
      "text/plain": [
       "<Figure size 432x288 with 1 Axes>"
      ]
     },
     "metadata": {},
     "output_type": "display_data"
    }
   ],
   "source": [
    "plt.scatter(pd.DataFrame(X_train_new3.index),(y_train - y_train_pred))\n",
    "plt.show()\n",
    "#there the residuals seem homoscedastic which seems to be a good sign of the model"
   ]
  },
  {
   "cell_type": "markdown",
   "metadata": {},
   "source": [
    "<b>Predicting on test data with <ins>lr3</ins></b>"
   ]
  },
  {
   "cell_type": "code",
   "execution_count": 78,
   "metadata": {},
   "outputs": [],
   "source": [
    "#preparing X_test and y_test\n",
    "y_test = bike_data_test[['cnt']]\n",
    "X_test = bike_data_test.drop('cnt',axis=1,inplace=False)\n",
    "#print(X_test.columns)\n",
    "X_test = X_test.drop(X_train.columns[~rfe.support_],axis=1,inplace=False)#dropping less significant columns\n",
    "#print(X_test.columns)\n",
    "X_test = X_test.drop('hum',axis=1,inplace=False)\n",
    "#X_test = X_test.drop('hum',axis=1,inplace=False)#dropping collinear columns"
   ]
  },
  {
   "cell_type": "code",
   "execution_count": 79,
   "metadata": {},
   "outputs": [],
   "source": [
    "X_test_lr3 = sm.add_constant(X_test)#adding constant column to X_test\n",
    "\n",
    "y_test_pred = lr3.predict(X_test_lr3)#predict y for X_test with constant"
   ]
  },
  {
   "cell_type": "code",
   "execution_count": 80,
   "metadata": {},
   "outputs": [
    {
     "data": {
      "image/png": "[encoded data removed]",
      "text/plain": [
       "<Figure size 432x288 with 1 Axes>"
      ]
     },
     "metadata": {},
     "output_type": "display_data"
    }
   ],
   "source": [
    "# Scatter plot to see how actual y_test varies with predicted y\n",
    "fig = plt.figure()\n",
    "plt.scatter(y_test,y_test_pred)\n",
    "fig.suptitle('y_test vs y_test_pred', fontsize=20)  \n",
    "plt.xlabel('y_test', fontsize=18)                   \n",
    "plt.ylabel('y_test_pred', fontsize=16)  \n",
    "plt.show()\n",
    "#the is a clear correlation between predicted and actual y values for test data"
   ]
  },
  {
   "cell_type": "markdown",
   "metadata": {},
   "source": [
    "Measuring R-Squared for test data with lr3 model"
   ]
  },
  {
   "cell_type": "code",
   "execution_count": 81,
   "metadata": {},
   "outputs": [
    {
     "data": {
      "text/plain": [
       "0.8035892571135712"
      ]
     },
     "execution_count": 81,
     "metadata": {},
     "output_type": "execute_result"
    }
   ],
   "source": [
    "from sklearn.metrics import r2_score\n",
    "\n",
    "r2_score(y_true=y_test,y_pred=y_test_pred)#r2 score 80% for test against 83% for lr3 train\n",
    "#looks like the model is a good predictor of count for given parameters"
   ]
  },
  {
   "cell_type": "markdown",
   "metadata": {},
   "source": [
    "<b>Predicting on test data with <ins>lr4</ins></b>"
   ]
  },
  {
   "cell_type": "code",
   "execution_count": 82,
   "metadata": {},
   "outputs": [],
   "source": [
    "#preparing X_test\n",
    "\n",
    "X_test = X_test.drop('season_winter',axis=1,inplace=False)#already dropped 'hum' in previous cells\n"
   ]
  },
  {
   "cell_type": "code",
   "execution_count": 83,
   "metadata": {},
   "outputs": [],
   "source": [
    "X_test_lr4 = sm.add_constant(X_test)\n",
    "\n",
    "y_test_pred = lr4.predict(X_test_lr4)\n"
   ]
  },
  {
   "cell_type": "code",
   "execution_count": 84,
   "metadata": {},
   "outputs": [
    {
     "data": {
      "image/png": "[encoded data removed]",
      "text/plain": [
       "<Figure size 432x288 with 1 Axes>"
      ]
     },
     "metadata": {},
     "output_type": "display_data"
    }
   ],
   "source": [
    "# Scatter plot to see how actual y_test varies with predicted y\n",
    "fig = plt.figure()\n",
    "plt.scatter(y_test,y_test_pred)\n",
    "fig.suptitle('y_test vs y_test_pred', fontsize=20)  \n",
    "plt.xlabel('y_test', fontsize=18)                   \n",
    "plt.ylabel('y_test_pred', fontsize=16)  \n",
    "plt.show()\n",
    "#the is a clear correlation between predicted and actual y values for test data"
   ]
  },
  {
   "cell_type": "markdown",
   "metadata": {},
   "source": [
    "Measuring R-Squared for test data with lr4 model"
   ]
  },
  {
   "cell_type": "code",
   "execution_count": 85,
   "metadata": {},
   "outputs": [
    {
     "data": {
      "text/plain": [
       "0.7867903687473189"
      ]
     },
     "execution_count": 85,
     "metadata": {},
     "output_type": "execute_result"
    }
   ],
   "source": [
    "r2_score(y_true=y_test,y_pred=y_test_pred)#r2 score 78% for test against 81% for lr4 train\n",
    "#the model might still be a good predictor of count/demand"
   ]
  },
  {
   "cell_type": "markdown",
   "metadata": {},
   "source": [
    "<b>Predicting on test data with <ins>lr5</ins></b>"
   ]
  },
  {
   "cell_type": "code",
   "execution_count": 86,
   "metadata": {},
   "outputs": [],
   "source": [
    "#preparing X_test\n",
    "\n",
    "X_test = X_test.drop('mnth_Nov',axis=1,inplace=False)\n"
   ]
  },
  {
   "cell_type": "code",
   "execution_count": 87,
   "metadata": {},
   "outputs": [],
   "source": [
    "X_test_lr5 = sm.add_constant(X_test)\n",
    "\n",
    "y_test_pred = lr5.predict(X_test_lr5)\n"
   ]
  },
  {
   "cell_type": "code",
   "execution_count": 88,
   "metadata": {},
   "outputs": [
    {
     "data": {
      "image/png": "[encoded data removed]",
      "text/plain": [
       "<Figure size 432x288 with 1 Axes>"
      ]
     },
     "metadata": {},
     "output_type": "display_data"
    }
   ],
   "source": [
    "# Scatter plot to see how actual y_test varies with predicted y\n",
    "fig = plt.figure()\n",
    "plt.scatter(y_test,y_test_pred)\n",
    "fig.suptitle('y_test vs y_test_pred', fontsize=20)  \n",
    "plt.xlabel('y_test', fontsize=18)                   \n",
    "plt.ylabel('y_test_pred', fontsize=16)  \n",
    "plt.show()\n",
    "#the is a clear correlation between predicted and actual y values for test data"
   ]
  },
  {
   "cell_type": "markdown",
   "metadata": {},
   "source": [
    "Measuring R-Squared for test data with lr5 model"
   ]
  },
  {
   "cell_type": "code",
   "execution_count": 89,
   "metadata": {},
   "outputs": [
    {
     "data": {
      "text/plain": [
       "0.7867056389260542"
      ]
     },
     "execution_count": 89,
     "metadata": {},
     "output_type": "execute_result"
    }
   ],
   "source": [
    "r2_score(y_true=y_test,y_pred=y_test_pred)#r2 score 78% for test against 81% for lr5 train\n",
    "#the model might still be a good predictor of count/demand\n",
    "#lr4 and lr5 have very similar R-Squared values"
   ]
  },
  {
   "cell_type": "markdown",
   "metadata": {},
   "source": [
    "### -------------------------------------------End of Building Model - Part2-------------------------------------------------"
   ]
  },
  {
   "cell_type": "markdown",
   "metadata": {},
   "source": [
    "### ------------------------------------------------------Conclusion------------------------------------------------------------"
   ]
  },
  {
   "cell_type": "markdown",
   "metadata": {},
   "source": [
    "Going from original model with all variables(lr1) to lr5 with 12 variables, the R2 score of test data fell from 81 to 78. After comparing this to the r-squared of train data with lr1 which is 85, we decided to stop further dropping of variables as the model fit might reduce even further going from here. Also, P-values of all independent features included in lr5 are extremely low, making them significant. Also, VIF of all the remaining parameters is also lower than 5, ruling out the chance of collinearity.<br>\n",
    "The features that retained in the last model lr5 are(hum, season_winter, mnth_Nov are dropped): \n",
    "'yr', 'holiday', 'atemp', 'windspeed',\n",
    "       'mnth_Dec', 'mnth_Feb', 'mnth_Jan', 'mnth_Jul', 'mnth_Mar',\n",
    "       'mnth_Oct', 'weathersit_Light_Snow/Rain', 'weathersit_Misty'"
   ]
  },
  {
   "cell_type": "markdown",
   "metadata": {},
   "source": [
    "The model is defined as follows(constant value is 1):<br>\n",
    "<ins>0.3004 + 0.25\\*yr - 0.123\\*holiday + 0.422\\*atemp - 0.1361\\*windspeed - 0.0741\\*mnth_Dec - 0.1531\\*mnth_Feb - 0.18\\*mnth_Jan - 0.0625\\*mnth_Jul - 0.0726\\*mnth_Mar + 0.0509\\*mnth_Oct - 0.2608\\*weathersit_Light_Snow/Rain - 0.0751\\*weathersit_Mis</ins>\n",
    "<br>\n",
    "Note: Prefixes are original categorical columns and reaiming part is one of its category.\n",
    "<br>\n",
    "<br>\n",
    "example: In weathersit_Light_Snow/Rain, weathersit is the column name and Light_Snow/Rain is one of its category that we identified from data dictionary"
   ]
  },
  {
   "cell_type": "markdown",
   "metadata": {},
   "source": [
    "<b>Inferences</b>: year increase and temperature are the biggest positive contirbutors to demand. Year on year, demand seems to increase by 25% when all other independent variables are constant. Increase in temperature from its lowest to higest causes increase in demand by about 42% when all other variables are fixed. Thats like 1.1% per increase in 1 degree in atemp\n",
    "<br>\n",
    "<br>\n",
    "Other features like light snow,mist, holidays and certain months in the beginning of the year decrease the demand."
   ]
  },
  {
   "cell_type": "markdown",
   "metadata": {},
   "source": [
    "<b>Considerations:</b> We should note that when we drop dummy variable to avoid dummy variable trap, there is a possibility that we might actually be missing the better representative(dropped dummy variable's coefficient) of the whole category. But considering the overall scheme of things and considering that dummy variables within categories are mutually exclusive, their impact can be explained by the retained dummy variables."
   ]
  },
  {
   "cell_type": "code",
   "execution_count": 90,
   "metadata": {},
   "outputs": [
    {
     "data": {
      "text/plain": [
       "38.0"
      ]
     },
     "execution_count": 90,
     "metadata": {},
     "output_type": "execute_result"
    }
   ],
   "source": [
    "df.atemp.min()\n",
    "df.atemp.max()\n",
    "df.atemp.max()-df.atemp.min()"
   ]
  },
  {
   "cell_type": "code",
   "execution_count": 91,
   "metadata": {},
   "outputs": [
    {
     "data": {
      "text/plain": [
       "1.105263157894737"
      ]
     },
     "execution_count": 91,
     "metadata": {},
     "output_type": "execute_result"
    }
   ],
   "source": [
    "42/(df.atemp.max()-df.atemp.min())#for every 1 degree range in temperature, demand raises by 1.1%"
   ]
  },
  {
   "cell_type": "code",
   "execution_count": null,
   "metadata": {},
   "outputs": [],
   "source": []
  }
 ],
 "metadata": {
  "kernelspec": {
   "display_name": "Python 3",
   "language": "python",
   "name": "python3"
  },
  "language_info": {
   "codemirror_mode": {
    "name": "ipython",
    "version": 3
   },
   "file_extension": ".py",
   "mimetype": "text/x-python",
   "name": "python",
   "nbconvert_exporter": "python",
   "pygments_lexer": "ipython3",
   "version": "3.6.5"
  }
 },
 "nbformat": 4,
 "nbformat_minor": 2
}
